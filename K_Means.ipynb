{
  "cells": [
    {
      "cell_type": "markdown",
      "metadata": {
        "id": "view-in-github",
        "colab_type": "text"
      },
      "source": [
        "<a href=\"https://colab.research.google.com/github/Rvze/ML/blob/main/K_Means.ipynb\" target=\"_parent\"><img src=\"https://colab.research.google.com/assets/colab-badge.svg\" alt=\"Open In Colab\"/></a>"
      ]
    },
    {
      "cell_type": "code",
      "execution_count": null,
      "outputs": [],
      "source": [
        "import numpy as np\n",
        "import pandas as pd\n",
        "import matplotlib\n",
        "\n",
        "matplotlib.style.use('ggplot')\n",
        "% matplotlib inline"
      ],
      "metadata": {
        "pycharm": {
          "name": "#%%\n"
        },
        "id": "IDCgtjzDJEAr"
      }
    },
    {
      "cell_type": "markdown",
      "source": [
        "Импортируем датасет в Датафрейм и проверим, все ли корректно импортировалось\n"
      ],
      "metadata": {
        "collapsed": false,
        "pycharm": {
          "name": "#%% md\n"
        },
        "id": "LqcEOC2DJEAs"
      }
    },
    {
      "cell_type": "code",
      "execution_count": null,
      "outputs": [],
      "source": [
        "df = pd.read_csv(\"exc.csv\", index_col=\"Object\")"
      ],
      "metadata": {
        "pycharm": {
          "name": "#%%\n"
        },
        "id": "YsV3jGKEJEAu"
      }
    },
    {
      "cell_type": "code",
      "execution_count": null,
      "outputs": [
        {
          "data": {
            "text/plain": "         X   Y  Cluster\nObject                 \n1        1  18        0\n2       16  20        1\n3       13  18        2\n4        6   2        1\n5        5   4        0",
            "text/html": "<div>\n<style scoped>\n    .dataframe tbody tr th:only-of-type {\n        vertical-align: middle;\n    }\n\n    .dataframe tbody tr th {\n        vertical-align: top;\n    }\n\n    .dataframe thead th {\n        text-align: right;\n    }\n</style>\n<table border=\"1\" class=\"dataframe\">\n  <thead>\n    <tr style=\"text-align: right;\">\n      <th></th>\n      <th>X</th>\n      <th>Y</th>\n      <th>Cluster</th>\n    </tr>\n    <tr>\n      <th>Object</th>\n      <th></th>\n      <th></th>\n      <th></th>\n    </tr>\n  </thead>\n  <tbody>\n    <tr>\n      <th>1</th>\n      <td>1</td>\n      <td>18</td>\n      <td>0</td>\n    </tr>\n    <tr>\n      <th>2</th>\n      <td>16</td>\n      <td>20</td>\n      <td>1</td>\n    </tr>\n    <tr>\n      <th>3</th>\n      <td>13</td>\n      <td>18</td>\n      <td>2</td>\n    </tr>\n    <tr>\n      <th>4</th>\n      <td>6</td>\n      <td>2</td>\n      <td>1</td>\n    </tr>\n    <tr>\n      <th>5</th>\n      <td>5</td>\n      <td>4</td>\n      <td>0</td>\n    </tr>\n  </tbody>\n</table>\n</div>"
          },
          "execution_count": 29,
          "metadata": {},
          "output_type": "execute_result"
        }
      ],
      "source": [
        "df.head()"
      ],
      "metadata": {
        "pycharm": {
          "name": "#%%\n"
        },
        "id": "1KaUmtULJEAu",
        "outputId": "ad63c265-c116-4837-edb7-359262da0e61"
      }
    },
    {
      "cell_type": "code",
      "execution_count": null,
      "outputs": [],
      "source": [
        "df_task = df.drop(\"Cluster\", axis=1)"
      ],
      "metadata": {
        "pycharm": {
          "name": "#%%\n"
        },
        "id": "AXPP96oqJEAv"
      }
    },
    {
      "cell_type": "code",
      "execution_count": null,
      "outputs": [
        {
          "data": {
            "text/plain": "         X   Y\nObject        \n1        1  18\n2       16  20\n3       13  18\n4        6   2\n5        5   4\n6        8   9\n7        1  13\n8        2  12\n9        5  12\n10      18   2\n11      11   9\n12       9  13\n13      10   2\n14       4   5\n15      13  13",
            "text/html": "<div>\n<style scoped>\n    .dataframe tbody tr th:only-of-type {\n        vertical-align: middle;\n    }\n\n    .dataframe tbody tr th {\n        vertical-align: top;\n    }\n\n    .dataframe thead th {\n        text-align: right;\n    }\n</style>\n<table border=\"1\" class=\"dataframe\">\n  <thead>\n    <tr style=\"text-align: right;\">\n      <th></th>\n      <th>X</th>\n      <th>Y</th>\n    </tr>\n    <tr>\n      <th>Object</th>\n      <th></th>\n      <th></th>\n    </tr>\n  </thead>\n  <tbody>\n    <tr>\n      <th>1</th>\n      <td>1</td>\n      <td>18</td>\n    </tr>\n    <tr>\n      <th>2</th>\n      <td>16</td>\n      <td>20</td>\n    </tr>\n    <tr>\n      <th>3</th>\n      <td>13</td>\n      <td>18</td>\n    </tr>\n    <tr>\n      <th>4</th>\n      <td>6</td>\n      <td>2</td>\n    </tr>\n    <tr>\n      <th>5</th>\n      <td>5</td>\n      <td>4</td>\n    </tr>\n    <tr>\n      <th>6</th>\n      <td>8</td>\n      <td>9</td>\n    </tr>\n    <tr>\n      <th>7</th>\n      <td>1</td>\n      <td>13</td>\n    </tr>\n    <tr>\n      <th>8</th>\n      <td>2</td>\n      <td>12</td>\n    </tr>\n    <tr>\n      <th>9</th>\n      <td>5</td>\n      <td>12</td>\n    </tr>\n    <tr>\n      <th>10</th>\n      <td>18</td>\n      <td>2</td>\n    </tr>\n    <tr>\n      <th>11</th>\n      <td>11</td>\n      <td>9</td>\n    </tr>\n    <tr>\n      <th>12</th>\n      <td>9</td>\n      <td>13</td>\n    </tr>\n    <tr>\n      <th>13</th>\n      <td>10</td>\n      <td>2</td>\n    </tr>\n    <tr>\n      <th>14</th>\n      <td>4</td>\n      <td>5</td>\n    </tr>\n    <tr>\n      <th>15</th>\n      <td>13</td>\n      <td>13</td>\n    </tr>\n  </tbody>\n</table>\n</div>"
          },
          "execution_count": 37,
          "metadata": {},
          "output_type": "execute_result"
        }
      ],
      "source": [
        "df_task"
      ],
      "metadata": {
        "pycharm": {
          "name": "#%%\n"
        },
        "id": "TGJHWtoKJEAv",
        "outputId": "956217f0-37f2-4592-c2e5-758f9c666830"
      }
    },
    {
      "cell_type": "code",
      "execution_count": null,
      "outputs": [],
      "source": [
        "from sklearn.cluster import KMeans"
      ],
      "metadata": {
        "pycharm": {
          "name": "#%%\n"
        },
        "id": "6I8Ixl96JEAw"
      }
    },
    {
      "cell_type": "code",
      "execution_count": null,
      "outputs": [],
      "source": [
        "dist = KMeans(n_clusters=3, init=np.array([[5.5, 11.5], [10.57, 7.57], [7.5, 15.0]]), max_iter=100, n_init=1)"
      ],
      "metadata": {
        "pycharm": {
          "name": "#%%\n"
        },
        "id": "T73jYMiuJEAx"
      }
    },
    {
      "cell_type": "code",
      "execution_count": null,
      "outputs": [
        {
          "data": {
            "text/plain": "KMeans(init=array([[ 5.5 , 11.5 ],\n       [10.57,  7.57],\n       [ 7.5 , 15.  ]]),\n       max_iter=100, n_clusters=3, n_init=1)"
          },
          "execution_count": 34,
          "metadata": {},
          "output_type": "execute_result"
        }
      ],
      "source": [
        "dist"
      ],
      "metadata": {
        "pycharm": {
          "name": "#%%\n"
        },
        "id": "xSfGpH2xJEAx",
        "outputId": "0b3128a7-af0c-4d5d-d9c6-069bddecf3ed"
      }
    },
    {
      "cell_type": "code",
      "execution_count": null,
      "outputs": [],
      "source": [
        "model = dist.fit(df_task)"
      ],
      "metadata": {
        "pycharm": {
          "name": "#%%\n"
        },
        "id": "_gW1dwxFJEAy"
      }
    },
    {
      "cell_type": "code",
      "execution_count": null,
      "outputs": [
        {
          "data": {
            "text/plain": "         X   Y  Clusters\nObject                  \n1        1  18         0\n2       16  20         2\n3       13  18         2\n4        6   2         1\n5        5   4         1\n6        8   9         1\n7        1  13         0\n8        2  12         0\n9        5  12         0\n10      18   2         1\n11      11   9         1\n12       9  13         2\n13      10   2         1\n14       4   5         1\n15      13  13         2",
            "text/html": "<div>\n<style scoped>\n    .dataframe tbody tr th:only-of-type {\n        vertical-align: middle;\n    }\n\n    .dataframe tbody tr th {\n        vertical-align: top;\n    }\n\n    .dataframe thead th {\n        text-align: right;\n    }\n</style>\n<table border=\"1\" class=\"dataframe\">\n  <thead>\n    <tr style=\"text-align: right;\">\n      <th></th>\n      <th>X</th>\n      <th>Y</th>\n      <th>Clusters</th>\n    </tr>\n    <tr>\n      <th>Object</th>\n      <th></th>\n      <th></th>\n      <th></th>\n    </tr>\n  </thead>\n  <tbody>\n    <tr>\n      <th>1</th>\n      <td>1</td>\n      <td>18</td>\n      <td>0</td>\n    </tr>\n    <tr>\n      <th>2</th>\n      <td>16</td>\n      <td>20</td>\n      <td>2</td>\n    </tr>\n    <tr>\n      <th>3</th>\n      <td>13</td>\n      <td>18</td>\n      <td>2</td>\n    </tr>\n    <tr>\n      <th>4</th>\n      <td>6</td>\n      <td>2</td>\n      <td>1</td>\n    </tr>\n    <tr>\n      <th>5</th>\n      <td>5</td>\n      <td>4</td>\n      <td>1</td>\n    </tr>\n    <tr>\n      <th>6</th>\n      <td>8</td>\n      <td>9</td>\n      <td>1</td>\n    </tr>\n    <tr>\n      <th>7</th>\n      <td>1</td>\n      <td>13</td>\n      <td>0</td>\n    </tr>\n    <tr>\n      <th>8</th>\n      <td>2</td>\n      <td>12</td>\n      <td>0</td>\n    </tr>\n    <tr>\n      <th>9</th>\n      <td>5</td>\n      <td>12</td>\n      <td>0</td>\n    </tr>\n    <tr>\n      <th>10</th>\n      <td>18</td>\n      <td>2</td>\n      <td>1</td>\n    </tr>\n    <tr>\n      <th>11</th>\n      <td>11</td>\n      <td>9</td>\n      <td>1</td>\n    </tr>\n    <tr>\n      <th>12</th>\n      <td>9</td>\n      <td>13</td>\n      <td>2</td>\n    </tr>\n    <tr>\n      <th>13</th>\n      <td>10</td>\n      <td>2</td>\n      <td>1</td>\n    </tr>\n    <tr>\n      <th>14</th>\n      <td>4</td>\n      <td>5</td>\n      <td>1</td>\n    </tr>\n    <tr>\n      <th>15</th>\n      <td>13</td>\n      <td>13</td>\n      <td>2</td>\n    </tr>\n  </tbody>\n</table>\n</div>"
          },
          "execution_count": 38,
          "metadata": {},
          "output_type": "execute_result"
        }
      ],
      "source": [
        "df_ans = df_task.copy()\n",
        "df_ans[\"Clusters\"] = model.labels_.tolist()\n",
        "df_ans"
      ],
      "metadata": {
        "pycharm": {
          "name": "#%%\n"
        },
        "id": "yfDdwkLvJEAy",
        "outputId": "afc81ca7-aadc-4efa-f886-f857a592f426"
      }
    },
    {
      "cell_type": "code",
      "execution_count": null,
      "outputs": [
        {
          "data": {
            "text/plain": "array([[ 4.43001129, 15.43518377, 11.91899744],\n       [15.10380747, 16.87226924,  5.15388203],\n       [11.55962802, 13.91666157,  2.01556444],\n       [12.33389638,  3.94088978, 15.54228104],\n       [10.13039979,  3.92272292, 14.28504463],\n       [ 7.45821695,  4.37058815,  8.45946216],\n       [ 1.45773797, 11.41874578, 12.12693284],\n       [ 1.76776695, 10.00510074, 11.47006975],\n       [ 3.2596012 ,  8.24373603,  8.72138177],\n       [19.65006361,  9.53725242, 14.95200655],\n       [ 9.95615388,  4.79157424,  7.21543484],\n       [ 6.79153885,  8.28694572,  4.80234318],\n       [14.07568826,  2.94507545, 14.26753307],\n       [ 8.92328415,  4.86553896, 14.0556928 ],\n       [10.77613103,  9.26371019,  3.01039864]])"
          },
          "execution_count": 39,
          "metadata": {},
          "output_type": "execute_result"
        }
      ],
      "source": [
        "distance = dist.fit_transform(df_task)\n",
        "distance"
      ],
      "metadata": {
        "pycharm": {
          "name": "#%%\n"
        },
        "id": "aqtz930lJEAz",
        "outputId": "9a755157-e405-4166-9ff5-ae1d7962e1fa"
      }
    },
    {
      "cell_type": "code",
      "execution_count": null,
      "outputs": [],
      "source": [
        "cluster_num = 0\n",
        "array = []\n",
        "for i in range(len(df_ans[\"Clusters\"])):\n",
        "    if df_ans[\"Clusters\"][i+1] == cluster_num:\n",
        "        array.append(distance[i][cluster_num])\n"
      ],
      "metadata": {
        "pycharm": {
          "name": "#%%\n"
        },
        "id": "4O2BBZKNJEAz"
      }
    },
    {
      "cell_type": "code",
      "execution_count": null,
      "outputs": [
        {
          "data": {
            "text/plain": "2.7287793539865888"
          },
          "execution_count": 44,
          "metadata": {},
          "output_type": "execute_result"
        }
      ],
      "source": [
        "sum(array)/len(array)"
      ],
      "metadata": {
        "pycharm": {
          "name": "#%%\n"
        },
        "id": "u6c5OsvOJEA0",
        "outputId": "b96cb4fd-e74a-4f64-e71c-bd9b0a85126f"
      }
    },
    {
      "cell_type": "code",
      "execution_count": null,
      "outputs": [],
      "source": [
        ""
      ],
      "metadata": {
        "pycharm": {
          "name": "#%%\n"
        },
        "id": "LddXgX4QJEA0"
      }
    }
  ],
  "metadata": {
    "kernelspec": {
      "display_name": "Python 3",
      "language": "python",
      "name": "python3"
    },
    "language_info": {
      "codemirror_mode": {
        "name": "ipython",
        "version": 2
      },
      "file_extension": ".py",
      "mimetype": "text/x-python",
      "name": "python",
      "nbconvert_exporter": "python",
      "pygments_lexer": "ipython2",
      "version": "2.7.6"
    },
    "colab": {
      "name": "K-Means.ipynb",
      "provenance": [],
      "include_colab_link": true
    }
  },
  "nbformat": 4,
  "nbformat_minor": 0
}