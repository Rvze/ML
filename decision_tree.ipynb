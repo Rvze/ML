{
  "nbformat": 4,
  "nbformat_minor": 0,
  "metadata": {
    "colab": {
      "name": "decision_tree.ipynb",
      "provenance": [],
      "authorship_tag": "ABX9TyPqVSRMfBytqRuSjFABqaqX",
      "include_colab_link": true
    },
    "kernelspec": {
      "name": "python3",
      "display_name": "Python 3"
    },
    "language_info": {
      "name": "python"
    }
  },
  "cells": [
    {
      "cell_type": "markdown",
      "metadata": {
        "id": "view-in-github",
        "colab_type": "text"
      },
      "source": [
        "<a href=\"https://colab.research.google.com/github/Rvze/ML/blob/main/decision_tree.ipynb\" target=\"_parent\"><img src=\"https://colab.research.google.com/assets/colab-badge.svg\" alt=\"Open In Colab\"/></a>"
      ]
    },
    {
      "cell_type": "code",
      "execution_count": 84,
      "metadata": {
        "id": "YgpB36Q9pXDK"
      },
      "outputs": [],
      "source": [
        "from sklearn.tree import export_graphviz\n",
        "import graphviz\n",
        "import pandas as pd\n",
        "from sklearn.model_selection import train_test_split\n",
        "import numpy as np\n",
        "from sklearn.tree import DecisionTreeClassifier\n",
        "from sklearn.datasets import load_iris\n",
        "from sklearn.model_selection import cross_val_score\n",
        "from sklearn.metrics import f1_score\n",
        "from sklearn.metrics import accuracy_score\n"
      ]
    },
    {
      "cell_type": "code",
      "source": [
        "df = pd.read_csv(\"diabetes.csv\", delimiter=\",\")"
      ],
      "metadata": {
        "id": "3iBx2H7RyhYt"
      },
      "execution_count": 86,
      "outputs": []
    },
    {
      "cell_type": "code",
      "source": [
        "x = pd.read_csv(\"diabetes.csv\", delimiter=\",\", nrows=520)"
      ],
      "metadata": {
        "id": "LGOev342pipO"
      },
      "execution_count": 13,
      "outputs": []
    },
    {
      "cell_type": "code",
      "source": [
        "y = x.get(\"Outcome\")"
      ],
      "metadata": {
        "id": "_hIQe0euqNom"
      },
      "execution_count": 20,
      "outputs": []
    },
    {
      "cell_type": "code",
      "source": [
        "y"
      ],
      "metadata": {
        "colab": {
          "base_uri": "https://localhost:8080/"
        },
        "id": "M0W7O1gUrhyi",
        "outputId": "66055f6d-3a71-4d64-ce32-8b4650e8af4c"
      },
      "execution_count": 21,
      "outputs": [
        {
          "output_type": "execute_result",
          "data": {
            "text/plain": [
              "0      1\n",
              "1      0\n",
              "2      1\n",
              "3      0\n",
              "4      1\n",
              "      ..\n",
              "515    1\n",
              "516    1\n",
              "517    0\n",
              "518    0\n",
              "519    0\n",
              "Name: Outcome, Length: 520, dtype: int64"
            ]
          },
          "metadata": {},
          "execution_count": 21
        }
      ]
    },
    {
      "cell_type": "code",
      "source": [
        "cnt = 0\n",
        "for i in y:\n",
        "  if i == 0:\n",
        "    cnt +=1\n",
        "cnt"
      ],
      "metadata": {
        "colab": {
          "base_uri": "https://localhost:8080/"
        },
        "id": "FRjEPPgVrePf",
        "outputId": "3108665c-762e-48ab-dafd-a454957468ba"
      },
      "execution_count": 25,
      "outputs": [
        {
          "output_type": "execute_result",
          "data": {
            "text/plain": [
              "333"
            ]
          },
          "metadata": {},
          "execution_count": 25
        }
      ]
    },
    {
      "cell_type": "code",
      "source": [
        "train_el = x.head(int(len(x)*0.8))\n",
        "train_el"
      ],
      "metadata": {
        "colab": {
          "base_uri": "https://localhost:8080/",
          "height": 424
        },
        "id": "SFUPtZBwwlXz",
        "outputId": "d2ecb910-5e6a-4eba-a683-cde51fb0e3df"
      },
      "execution_count": 67,
      "outputs": [
        {
          "output_type": "execute_result",
          "data": {
            "text/plain": [
              "     Pregnancies  Glucose  BloodPressure  SkinThickness  Insulin   BMI  \\\n",
              "0              6      148             72             35        0  33.6   \n",
              "1              1       85             66             29        0  26.6   \n",
              "2              8      183             64              0        0  23.3   \n",
              "3              1       89             66             23       94  28.1   \n",
              "4              0      137             40             35      168  43.1   \n",
              "..           ...      ...            ...            ...      ...   ...   \n",
              "411            1      112             72             30      176  34.4   \n",
              "412            1      143             84             23      310  42.4   \n",
              "413            1      143             74             22       61  26.2   \n",
              "414            0      138             60             35      167  34.6   \n",
              "415            3      173             84             33      474  35.7   \n",
              "\n",
              "     DiabetesPedigreeFunction  Age  Outcome  \n",
              "0                       0.627   50        1  \n",
              "1                       0.351   31        0  \n",
              "2                       0.672   32        1  \n",
              "3                       0.167   21        0  \n",
              "4                       2.288   33        1  \n",
              "..                        ...  ...      ...  \n",
              "411                     0.528   25        0  \n",
              "412                     1.076   22        0  \n",
              "413                     0.256   21        0  \n",
              "414                     0.534   21        1  \n",
              "415                     0.258   22        1  \n",
              "\n",
              "[416 rows x 9 columns]"
            ],
            "text/html": [
              "\n",
              "  <div id=\"df-0e3877b1-c7c6-4533-b685-25fbfb4b08c4\">\n",
              "    <div class=\"colab-df-container\">\n",
              "      <div>\n",
              "<style scoped>\n",
              "    .dataframe tbody tr th:only-of-type {\n",
              "        vertical-align: middle;\n",
              "    }\n",
              "\n",
              "    .dataframe tbody tr th {\n",
              "        vertical-align: top;\n",
              "    }\n",
              "\n",
              "    .dataframe thead th {\n",
              "        text-align: right;\n",
              "    }\n",
              "</style>\n",
              "<table border=\"1\" class=\"dataframe\">\n",
              "  <thead>\n",
              "    <tr style=\"text-align: right;\">\n",
              "      <th></th>\n",
              "      <th>Pregnancies</th>\n",
              "      <th>Glucose</th>\n",
              "      <th>BloodPressure</th>\n",
              "      <th>SkinThickness</th>\n",
              "      <th>Insulin</th>\n",
              "      <th>BMI</th>\n",
              "      <th>DiabetesPedigreeFunction</th>\n",
              "      <th>Age</th>\n",
              "      <th>Outcome</th>\n",
              "    </tr>\n",
              "  </thead>\n",
              "  <tbody>\n",
              "    <tr>\n",
              "      <th>0</th>\n",
              "      <td>6</td>\n",
              "      <td>148</td>\n",
              "      <td>72</td>\n",
              "      <td>35</td>\n",
              "      <td>0</td>\n",
              "      <td>33.6</td>\n",
              "      <td>0.627</td>\n",
              "      <td>50</td>\n",
              "      <td>1</td>\n",
              "    </tr>\n",
              "    <tr>\n",
              "      <th>1</th>\n",
              "      <td>1</td>\n",
              "      <td>85</td>\n",
              "      <td>66</td>\n",
              "      <td>29</td>\n",
              "      <td>0</td>\n",
              "      <td>26.6</td>\n",
              "      <td>0.351</td>\n",
              "      <td>31</td>\n",
              "      <td>0</td>\n",
              "    </tr>\n",
              "    <tr>\n",
              "      <th>2</th>\n",
              "      <td>8</td>\n",
              "      <td>183</td>\n",
              "      <td>64</td>\n",
              "      <td>0</td>\n",
              "      <td>0</td>\n",
              "      <td>23.3</td>\n",
              "      <td>0.672</td>\n",
              "      <td>32</td>\n",
              "      <td>1</td>\n",
              "    </tr>\n",
              "    <tr>\n",
              "      <th>3</th>\n",
              "      <td>1</td>\n",
              "      <td>89</td>\n",
              "      <td>66</td>\n",
              "      <td>23</td>\n",
              "      <td>94</td>\n",
              "      <td>28.1</td>\n",
              "      <td>0.167</td>\n",
              "      <td>21</td>\n",
              "      <td>0</td>\n",
              "    </tr>\n",
              "    <tr>\n",
              "      <th>4</th>\n",
              "      <td>0</td>\n",
              "      <td>137</td>\n",
              "      <td>40</td>\n",
              "      <td>35</td>\n",
              "      <td>168</td>\n",
              "      <td>43.1</td>\n",
              "      <td>2.288</td>\n",
              "      <td>33</td>\n",
              "      <td>1</td>\n",
              "    </tr>\n",
              "    <tr>\n",
              "      <th>...</th>\n",
              "      <td>...</td>\n",
              "      <td>...</td>\n",
              "      <td>...</td>\n",
              "      <td>...</td>\n",
              "      <td>...</td>\n",
              "      <td>...</td>\n",
              "      <td>...</td>\n",
              "      <td>...</td>\n",
              "      <td>...</td>\n",
              "    </tr>\n",
              "    <tr>\n",
              "      <th>411</th>\n",
              "      <td>1</td>\n",
              "      <td>112</td>\n",
              "      <td>72</td>\n",
              "      <td>30</td>\n",
              "      <td>176</td>\n",
              "      <td>34.4</td>\n",
              "      <td>0.528</td>\n",
              "      <td>25</td>\n",
              "      <td>0</td>\n",
              "    </tr>\n",
              "    <tr>\n",
              "      <th>412</th>\n",
              "      <td>1</td>\n",
              "      <td>143</td>\n",
              "      <td>84</td>\n",
              "      <td>23</td>\n",
              "      <td>310</td>\n",
              "      <td>42.4</td>\n",
              "      <td>1.076</td>\n",
              "      <td>22</td>\n",
              "      <td>0</td>\n",
              "    </tr>\n",
              "    <tr>\n",
              "      <th>413</th>\n",
              "      <td>1</td>\n",
              "      <td>143</td>\n",
              "      <td>74</td>\n",
              "      <td>22</td>\n",
              "      <td>61</td>\n",
              "      <td>26.2</td>\n",
              "      <td>0.256</td>\n",
              "      <td>21</td>\n",
              "      <td>0</td>\n",
              "    </tr>\n",
              "    <tr>\n",
              "      <th>414</th>\n",
              "      <td>0</td>\n",
              "      <td>138</td>\n",
              "      <td>60</td>\n",
              "      <td>35</td>\n",
              "      <td>167</td>\n",
              "      <td>34.6</td>\n",
              "      <td>0.534</td>\n",
              "      <td>21</td>\n",
              "      <td>1</td>\n",
              "    </tr>\n",
              "    <tr>\n",
              "      <th>415</th>\n",
              "      <td>3</td>\n",
              "      <td>173</td>\n",
              "      <td>84</td>\n",
              "      <td>33</td>\n",
              "      <td>474</td>\n",
              "      <td>35.7</td>\n",
              "      <td>0.258</td>\n",
              "      <td>22</td>\n",
              "      <td>1</td>\n",
              "    </tr>\n",
              "  </tbody>\n",
              "</table>\n",
              "<p>416 rows × 9 columns</p>\n",
              "</div>\n",
              "      <button class=\"colab-df-convert\" onclick=\"convertToInteractive('df-0e3877b1-c7c6-4533-b685-25fbfb4b08c4')\"\n",
              "              title=\"Convert this dataframe to an interactive table.\"\n",
              "              style=\"display:none;\">\n",
              "        \n",
              "  <svg xmlns=\"http://www.w3.org/2000/svg\" height=\"24px\"viewBox=\"0 0 24 24\"\n",
              "       width=\"24px\">\n",
              "    <path d=\"M0 0h24v24H0V0z\" fill=\"none\"/>\n",
              "    <path d=\"M18.56 5.44l.94 2.06.94-2.06 2.06-.94-2.06-.94-.94-2.06-.94 2.06-2.06.94zm-11 1L8.5 8.5l.94-2.06 2.06-.94-2.06-.94L8.5 2.5l-.94 2.06-2.06.94zm10 10l.94 2.06.94-2.06 2.06-.94-2.06-.94-.94-2.06-.94 2.06-2.06.94z\"/><path d=\"M17.41 7.96l-1.37-1.37c-.4-.4-.92-.59-1.43-.59-.52 0-1.04.2-1.43.59L10.3 9.45l-7.72 7.72c-.78.78-.78 2.05 0 2.83L4 21.41c.39.39.9.59 1.41.59.51 0 1.02-.2 1.41-.59l7.78-7.78 2.81-2.81c.8-.78.8-2.07 0-2.86zM5.41 20L4 18.59l7.72-7.72 1.47 1.35L5.41 20z\"/>\n",
              "  </svg>\n",
              "      </button>\n",
              "      \n",
              "  <style>\n",
              "    .colab-df-container {\n",
              "      display:flex;\n",
              "      flex-wrap:wrap;\n",
              "      gap: 12px;\n",
              "    }\n",
              "\n",
              "    .colab-df-convert {\n",
              "      background-color: #E8F0FE;\n",
              "      border: none;\n",
              "      border-radius: 50%;\n",
              "      cursor: pointer;\n",
              "      display: none;\n",
              "      fill: #1967D2;\n",
              "      height: 32px;\n",
              "      padding: 0 0 0 0;\n",
              "      width: 32px;\n",
              "    }\n",
              "\n",
              "    .colab-df-convert:hover {\n",
              "      background-color: #E2EBFA;\n",
              "      box-shadow: 0px 1px 2px rgba(60, 64, 67, 0.3), 0px 1px 3px 1px rgba(60, 64, 67, 0.15);\n",
              "      fill: #174EA6;\n",
              "    }\n",
              "\n",
              "    [theme=dark] .colab-df-convert {\n",
              "      background-color: #3B4455;\n",
              "      fill: #D2E3FC;\n",
              "    }\n",
              "\n",
              "    [theme=dark] .colab-df-convert:hover {\n",
              "      background-color: #434B5C;\n",
              "      box-shadow: 0px 1px 3px 1px rgba(0, 0, 0, 0.15);\n",
              "      filter: drop-shadow(0px 1px 2px rgba(0, 0, 0, 0.3));\n",
              "      fill: #FFFFFF;\n",
              "    }\n",
              "  </style>\n",
              "\n",
              "      <script>\n",
              "        const buttonEl =\n",
              "          document.querySelector('#df-0e3877b1-c7c6-4533-b685-25fbfb4b08c4 button.colab-df-convert');\n",
              "        buttonEl.style.display =\n",
              "          google.colab.kernel.accessAllowed ? 'block' : 'none';\n",
              "\n",
              "        async function convertToInteractive(key) {\n",
              "          const element = document.querySelector('#df-0e3877b1-c7c6-4533-b685-25fbfb4b08c4');\n",
              "          const dataTable =\n",
              "            await google.colab.kernel.invokeFunction('convertToInteractive',\n",
              "                                                     [key], {});\n",
              "          if (!dataTable) return;\n",
              "\n",
              "          const docLinkHtml = 'Like what you see? Visit the ' +\n",
              "            '<a target=\"_blank\" href=https://colab.research.google.com/notebooks/data_table.ipynb>data table notebook</a>'\n",
              "            + ' to learn more about interactive tables.';\n",
              "          element.innerHTML = '';\n",
              "          dataTable['output_type'] = 'display_data';\n",
              "          await google.colab.output.renderOutput(dataTable, element);\n",
              "          const docLink = document.createElement('div');\n",
              "          docLink.innerHTML = docLinkHtml;\n",
              "          element.appendChild(docLink);\n",
              "        }\n",
              "      </script>\n",
              "    </div>\n",
              "  </div>\n",
              "  "
            ]
          },
          "metadata": {},
          "execution_count": 67
        }
      ]
    },
    {
      "cell_type": "code",
      "source": [
        "test_el = x.head(int(len(x)*0.2))\n",
        "test_el"
      ],
      "metadata": {
        "colab": {
          "base_uri": "https://localhost:8080/",
          "height": 424
        },
        "id": "ygBoIfvUw0S8",
        "outputId": "3b0b9f19-50bb-4819-b683-a27cf66c42e7"
      },
      "execution_count": 68,
      "outputs": [
        {
          "output_type": "execute_result",
          "data": {
            "text/plain": [
              "     Pregnancies  Glucose  BloodPressure  SkinThickness  Insulin   BMI  \\\n",
              "0              6      148             72             35        0  33.6   \n",
              "1              1       85             66             29        0  26.6   \n",
              "2              8      183             64              0        0  23.3   \n",
              "3              1       89             66             23       94  28.1   \n",
              "4              0      137             40             35      168  43.1   \n",
              "..           ...      ...            ...            ...      ...   ...   \n",
              "99             1      122             90             51      220  49.7   \n",
              "100            1      163             72              0        0  39.0   \n",
              "101            1      151             60              0        0  26.1   \n",
              "102            0      125             96              0        0  22.5   \n",
              "103            1       81             72             18       40  26.6   \n",
              "\n",
              "     DiabetesPedigreeFunction  Age  Outcome  \n",
              "0                       0.627   50        1  \n",
              "1                       0.351   31        0  \n",
              "2                       0.672   32        1  \n",
              "3                       0.167   21        0  \n",
              "4                       2.288   33        1  \n",
              "..                        ...  ...      ...  \n",
              "99                      0.325   31        1  \n",
              "100                     1.222   33        1  \n",
              "101                     0.179   22        0  \n",
              "102                     0.262   21        0  \n",
              "103                     0.283   24        0  \n",
              "\n",
              "[104 rows x 9 columns]"
            ],
            "text/html": [
              "\n",
              "  <div id=\"df-524a2c82-f16a-4c80-8e63-32843dfab245\">\n",
              "    <div class=\"colab-df-container\">\n",
              "      <div>\n",
              "<style scoped>\n",
              "    .dataframe tbody tr th:only-of-type {\n",
              "        vertical-align: middle;\n",
              "    }\n",
              "\n",
              "    .dataframe tbody tr th {\n",
              "        vertical-align: top;\n",
              "    }\n",
              "\n",
              "    .dataframe thead th {\n",
              "        text-align: right;\n",
              "    }\n",
              "</style>\n",
              "<table border=\"1\" class=\"dataframe\">\n",
              "  <thead>\n",
              "    <tr style=\"text-align: right;\">\n",
              "      <th></th>\n",
              "      <th>Pregnancies</th>\n",
              "      <th>Glucose</th>\n",
              "      <th>BloodPressure</th>\n",
              "      <th>SkinThickness</th>\n",
              "      <th>Insulin</th>\n",
              "      <th>BMI</th>\n",
              "      <th>DiabetesPedigreeFunction</th>\n",
              "      <th>Age</th>\n",
              "      <th>Outcome</th>\n",
              "    </tr>\n",
              "  </thead>\n",
              "  <tbody>\n",
              "    <tr>\n",
              "      <th>0</th>\n",
              "      <td>6</td>\n",
              "      <td>148</td>\n",
              "      <td>72</td>\n",
              "      <td>35</td>\n",
              "      <td>0</td>\n",
              "      <td>33.6</td>\n",
              "      <td>0.627</td>\n",
              "      <td>50</td>\n",
              "      <td>1</td>\n",
              "    </tr>\n",
              "    <tr>\n",
              "      <th>1</th>\n",
              "      <td>1</td>\n",
              "      <td>85</td>\n",
              "      <td>66</td>\n",
              "      <td>29</td>\n",
              "      <td>0</td>\n",
              "      <td>26.6</td>\n",
              "      <td>0.351</td>\n",
              "      <td>31</td>\n",
              "      <td>0</td>\n",
              "    </tr>\n",
              "    <tr>\n",
              "      <th>2</th>\n",
              "      <td>8</td>\n",
              "      <td>183</td>\n",
              "      <td>64</td>\n",
              "      <td>0</td>\n",
              "      <td>0</td>\n",
              "      <td>23.3</td>\n",
              "      <td>0.672</td>\n",
              "      <td>32</td>\n",
              "      <td>1</td>\n",
              "    </tr>\n",
              "    <tr>\n",
              "      <th>3</th>\n",
              "      <td>1</td>\n",
              "      <td>89</td>\n",
              "      <td>66</td>\n",
              "      <td>23</td>\n",
              "      <td>94</td>\n",
              "      <td>28.1</td>\n",
              "      <td>0.167</td>\n",
              "      <td>21</td>\n",
              "      <td>0</td>\n",
              "    </tr>\n",
              "    <tr>\n",
              "      <th>4</th>\n",
              "      <td>0</td>\n",
              "      <td>137</td>\n",
              "      <td>40</td>\n",
              "      <td>35</td>\n",
              "      <td>168</td>\n",
              "      <td>43.1</td>\n",
              "      <td>2.288</td>\n",
              "      <td>33</td>\n",
              "      <td>1</td>\n",
              "    </tr>\n",
              "    <tr>\n",
              "      <th>...</th>\n",
              "      <td>...</td>\n",
              "      <td>...</td>\n",
              "      <td>...</td>\n",
              "      <td>...</td>\n",
              "      <td>...</td>\n",
              "      <td>...</td>\n",
              "      <td>...</td>\n",
              "      <td>...</td>\n",
              "      <td>...</td>\n",
              "    </tr>\n",
              "    <tr>\n",
              "      <th>99</th>\n",
              "      <td>1</td>\n",
              "      <td>122</td>\n",
              "      <td>90</td>\n",
              "      <td>51</td>\n",
              "      <td>220</td>\n",
              "      <td>49.7</td>\n",
              "      <td>0.325</td>\n",
              "      <td>31</td>\n",
              "      <td>1</td>\n",
              "    </tr>\n",
              "    <tr>\n",
              "      <th>100</th>\n",
              "      <td>1</td>\n",
              "      <td>163</td>\n",
              "      <td>72</td>\n",
              "      <td>0</td>\n",
              "      <td>0</td>\n",
              "      <td>39.0</td>\n",
              "      <td>1.222</td>\n",
              "      <td>33</td>\n",
              "      <td>1</td>\n",
              "    </tr>\n",
              "    <tr>\n",
              "      <th>101</th>\n",
              "      <td>1</td>\n",
              "      <td>151</td>\n",
              "      <td>60</td>\n",
              "      <td>0</td>\n",
              "      <td>0</td>\n",
              "      <td>26.1</td>\n",
              "      <td>0.179</td>\n",
              "      <td>22</td>\n",
              "      <td>0</td>\n",
              "    </tr>\n",
              "    <tr>\n",
              "      <th>102</th>\n",
              "      <td>0</td>\n",
              "      <td>125</td>\n",
              "      <td>96</td>\n",
              "      <td>0</td>\n",
              "      <td>0</td>\n",
              "      <td>22.5</td>\n",
              "      <td>0.262</td>\n",
              "      <td>21</td>\n",
              "      <td>0</td>\n",
              "    </tr>\n",
              "    <tr>\n",
              "      <th>103</th>\n",
              "      <td>1</td>\n",
              "      <td>81</td>\n",
              "      <td>72</td>\n",
              "      <td>18</td>\n",
              "      <td>40</td>\n",
              "      <td>26.6</td>\n",
              "      <td>0.283</td>\n",
              "      <td>24</td>\n",
              "      <td>0</td>\n",
              "    </tr>\n",
              "  </tbody>\n",
              "</table>\n",
              "<p>104 rows × 9 columns</p>\n",
              "</div>\n",
              "      <button class=\"colab-df-convert\" onclick=\"convertToInteractive('df-524a2c82-f16a-4c80-8e63-32843dfab245')\"\n",
              "              title=\"Convert this dataframe to an interactive table.\"\n",
              "              style=\"display:none;\">\n",
              "        \n",
              "  <svg xmlns=\"http://www.w3.org/2000/svg\" height=\"24px\"viewBox=\"0 0 24 24\"\n",
              "       width=\"24px\">\n",
              "    <path d=\"M0 0h24v24H0V0z\" fill=\"none\"/>\n",
              "    <path d=\"M18.56 5.44l.94 2.06.94-2.06 2.06-.94-2.06-.94-.94-2.06-.94 2.06-2.06.94zm-11 1L8.5 8.5l.94-2.06 2.06-.94-2.06-.94L8.5 2.5l-.94 2.06-2.06.94zm10 10l.94 2.06.94-2.06 2.06-.94-2.06-.94-.94-2.06-.94 2.06-2.06.94z\"/><path d=\"M17.41 7.96l-1.37-1.37c-.4-.4-.92-.59-1.43-.59-.52 0-1.04.2-1.43.59L10.3 9.45l-7.72 7.72c-.78.78-.78 2.05 0 2.83L4 21.41c.39.39.9.59 1.41.59.51 0 1.02-.2 1.41-.59l7.78-7.78 2.81-2.81c.8-.78.8-2.07 0-2.86zM5.41 20L4 18.59l7.72-7.72 1.47 1.35L5.41 20z\"/>\n",
              "  </svg>\n",
              "      </button>\n",
              "      \n",
              "  <style>\n",
              "    .colab-df-container {\n",
              "      display:flex;\n",
              "      flex-wrap:wrap;\n",
              "      gap: 12px;\n",
              "    }\n",
              "\n",
              "    .colab-df-convert {\n",
              "      background-color: #E8F0FE;\n",
              "      border: none;\n",
              "      border-radius: 50%;\n",
              "      cursor: pointer;\n",
              "      display: none;\n",
              "      fill: #1967D2;\n",
              "      height: 32px;\n",
              "      padding: 0 0 0 0;\n",
              "      width: 32px;\n",
              "    }\n",
              "\n",
              "    .colab-df-convert:hover {\n",
              "      background-color: #E2EBFA;\n",
              "      box-shadow: 0px 1px 2px rgba(60, 64, 67, 0.3), 0px 1px 3px 1px rgba(60, 64, 67, 0.15);\n",
              "      fill: #174EA6;\n",
              "    }\n",
              "\n",
              "    [theme=dark] .colab-df-convert {\n",
              "      background-color: #3B4455;\n",
              "      fill: #D2E3FC;\n",
              "    }\n",
              "\n",
              "    [theme=dark] .colab-df-convert:hover {\n",
              "      background-color: #434B5C;\n",
              "      box-shadow: 0px 1px 3px 1px rgba(0, 0, 0, 0.15);\n",
              "      filter: drop-shadow(0px 1px 2px rgba(0, 0, 0, 0.3));\n",
              "      fill: #FFFFFF;\n",
              "    }\n",
              "  </style>\n",
              "\n",
              "      <script>\n",
              "        const buttonEl =\n",
              "          document.querySelector('#df-524a2c82-f16a-4c80-8e63-32843dfab245 button.colab-df-convert');\n",
              "        buttonEl.style.display =\n",
              "          google.colab.kernel.accessAllowed ? 'block' : 'none';\n",
              "\n",
              "        async function convertToInteractive(key) {\n",
              "          const element = document.querySelector('#df-524a2c82-f16a-4c80-8e63-32843dfab245');\n",
              "          const dataTable =\n",
              "            await google.colab.kernel.invokeFunction('convertToInteractive',\n",
              "                                                     [key], {});\n",
              "          if (!dataTable) return;\n",
              "\n",
              "          const docLinkHtml = 'Like what you see? Visit the ' +\n",
              "            '<a target=\"_blank\" href=https://colab.research.google.com/notebooks/data_table.ipynb>data table notebook</a>'\n",
              "            + ' to learn more about interactive tables.';\n",
              "          element.innerHTML = '';\n",
              "          dataTable['output_type'] = 'display_data';\n",
              "          await google.colab.output.renderOutput(dataTable, element);\n",
              "          const docLink = document.createElement('div');\n",
              "          docLink.innerHTML = docLinkHtml;\n",
              "          element.appendChild(docLink);\n",
              "        }\n",
              "      </script>\n",
              "    </div>\n",
              "  </div>\n",
              "  "
            ]
          },
          "metadata": {},
          "execution_count": 68
        }
      ]
    },
    {
      "cell_type": "code",
      "source": [
        "predictors = list(train_el.columns[:8])\n",
        "X_train = train_el[predictors]\n",
        "Y_train = train_el[\"Outcome\"]\n",
        "\n",
        "X_test = test_el[predictors]\n",
        "Y_test = test_el[\"Outcome\"]"
      ],
      "metadata": {
        "id": "rcbUG9KtsIHA"
      },
      "execution_count": 73,
      "outputs": []
    },
    {
      "cell_type": "code",
      "source": [
        ""
      ],
      "metadata": {
        "id": "wUe-V1ehwiSq"
      },
      "execution_count": null,
      "outputs": []
    },
    {
      "cell_type": "code",
      "source": [
        "clf = DecisionTreeClassifier(criterion=\"entropy\", max_leaf_nodes=25, min_samples_leaf=15, random_state=2020)"
      ],
      "metadata": {
        "id": "JQyu_rrEtHaf"
      },
      "execution_count": 49,
      "outputs": []
    },
    {
      "cell_type": "code",
      "source": [
        "clf = clf.fit(X_train, Y_train)"
      ],
      "metadata": {
        "id": "PJRIqynAtf5Z"
      },
      "execution_count": 74,
      "outputs": []
    },
    {
      "cell_type": "code",
      "source": [
        "clf.tree_.max_depth\n"
      ],
      "metadata": {
        "colab": {
          "base_uri": "https://localhost:8080/"
        },
        "id": "10imBKtTvEhd",
        "outputId": "9a23d4cc-2a44-4b57-8b58-5854f1ce1abd"
      },
      "execution_count": 76,
      "outputs": [
        {
          "output_type": "execute_result",
          "data": {
            "text/plain": [
              "8"
            ]
          },
          "metadata": {},
          "execution_count": 76
        }
      ]
    },
    {
      "cell_type": "code",
      "source": [
        "columns = list(X_train.columns)\n",
        "export_graphviz(clf, out_file='tree.dot', \n",
        "                feature_names=columns,\n",
        "                class_names=['0', '1'],\n",
        "                rounded = True, proportion = False, \n",
        "                precision = 2, filled = True, label='all')\n",
        "\n",
        "with open('tree.dot') as f:\n",
        "    dot_graph = f.read()\n",
        "\n",
        "graphviz.Source(dot_graph)"
      ],
      "metadata": {
        "colab": {
          "base_uri": "https://localhost:8080/",
          "height": 1000
        },
        "id": "jRX2U3eHpfFo",
        "outputId": "e44cc0e8-eadc-4fbd-d903-36e7f7560966"
      },
      "execution_count": 78,
      "outputs": [
        {
          "output_type": "execute_result",
          "data": {
            "text/plain": [
              "<graphviz.files.Source at 0x7f350ab42250>"
            ],
            "image/svg+xml": "<?xml version=\"1.0\" encoding=\"UTF-8\" standalone=\"no\"?>\n<!DOCTYPE svg PUBLIC \"-//W3C//DTD SVG 1.1//EN\"\n \"http://www.w3.org/Graphics/SVG/1.1/DTD/svg11.dtd\">\n<!-- Generated by graphviz version 2.40.1 (20161225.0304)\n -->\n<!-- Title: Tree Pages: 1 -->\n<svg width=\"1210pt\" height=\"1028pt\"\n viewBox=\"0.00 0.00 1209.50 1028.00\" xmlns=\"http://www.w3.org/2000/svg\" xmlns:xlink=\"http://www.w3.org/1999/xlink\">\n<g id=\"graph0\" class=\"graph\" transform=\"scale(1 1) rotate(0) translate(4 1024)\">\n<title>Tree</title>\n<polygon fill=\"#ffffff\" stroke=\"transparent\" points=\"-4,4 -4,-1024 1205.5,-1024 1205.5,4 -4,4\"/>\n<!-- 0 -->\n<g id=\"node1\" class=\"node\">\n<title>0</title>\n<path fill=\"#f5d0b5\" stroke=\"#000000\" d=\"M566.5,-1020C566.5,-1020 458.5,-1020 458.5,-1020 452.5,-1020 446.5,-1014 446.5,-1008 446.5,-1008 446.5,-949 446.5,-949 446.5,-943 452.5,-937 458.5,-937 458.5,-937 566.5,-937 566.5,-937 572.5,-937 578.5,-943 578.5,-949 578.5,-949 578.5,-1008 578.5,-1008 578.5,-1014 572.5,-1020 566.5,-1020\"/>\n<text text-anchor=\"middle\" x=\"512.5\" y=\"-1004.8\" font-family=\"Helvetica,sans-Serif\" font-size=\"14.00\" fill=\"#000000\">Glucose &lt;= 151.5</text>\n<text text-anchor=\"middle\" x=\"512.5\" y=\"-989.8\" font-family=\"Helvetica,sans-Serif\" font-size=\"14.00\" fill=\"#000000\">entropy = 0.96</text>\n<text text-anchor=\"middle\" x=\"512.5\" y=\"-974.8\" font-family=\"Helvetica,sans-Serif\" font-size=\"14.00\" fill=\"#000000\">samples = 416</text>\n<text text-anchor=\"middle\" x=\"512.5\" y=\"-959.8\" font-family=\"Helvetica,sans-Serif\" font-size=\"14.00\" fill=\"#000000\">value = [256, 160]</text>\n<text text-anchor=\"middle\" x=\"512.5\" y=\"-944.8\" font-family=\"Helvetica,sans-Serif\" font-size=\"14.00\" fill=\"#000000\">class = 0</text>\n</g>\n<!-- 1 -->\n<g id=\"node2\" class=\"node\">\n<title>1</title>\n<path fill=\"#f0b58a\" stroke=\"#000000\" d=\"M464.5,-901C464.5,-901 364.5,-901 364.5,-901 358.5,-901 352.5,-895 352.5,-889 352.5,-889 352.5,-830 352.5,-830 352.5,-824 358.5,-818 364.5,-818 364.5,-818 464.5,-818 464.5,-818 470.5,-818 476.5,-824 476.5,-830 476.5,-830 476.5,-889 476.5,-889 476.5,-895 470.5,-901 464.5,-901\"/>\n<text text-anchor=\"middle\" x=\"414.5\" y=\"-885.8\" font-family=\"Helvetica,sans-Serif\" font-size=\"14.00\" fill=\"#000000\">BMI &lt;= 26.9</text>\n<text text-anchor=\"middle\" x=\"414.5\" y=\"-870.8\" font-family=\"Helvetica,sans-Serif\" font-size=\"14.00\" fill=\"#000000\">entropy = 0.87</text>\n<text text-anchor=\"middle\" x=\"414.5\" y=\"-855.8\" font-family=\"Helvetica,sans-Serif\" font-size=\"14.00\" fill=\"#000000\">samples = 340</text>\n<text text-anchor=\"middle\" x=\"414.5\" y=\"-840.8\" font-family=\"Helvetica,sans-Serif\" font-size=\"14.00\" fill=\"#000000\">value = [241, 99]</text>\n<text text-anchor=\"middle\" x=\"414.5\" y=\"-825.8\" font-family=\"Helvetica,sans-Serif\" font-size=\"14.00\" fill=\"#000000\">class = 0</text>\n</g>\n<!-- 0&#45;&gt;1 -->\n<g id=\"edge1\" class=\"edge\">\n<title>0&#45;&gt;1</title>\n<path fill=\"none\" stroke=\"#000000\" d=\"M478.2244,-936.8796C470.8816,-927.9633 463.0524,-918.4565 455.4854,-909.268\"/>\n<polygon fill=\"#000000\" stroke=\"#000000\" points=\"457.9808,-906.7924 448.9219,-901.2981 452.5773,-911.2424 457.9808,-906.7924\"/>\n<text text-anchor=\"middle\" x=\"446.5138\" y=\"-922.4818\" font-family=\"Helvetica,sans-Serif\" font-size=\"14.00\" fill=\"#000000\">True</text>\n</g>\n<!-- 2 -->\n<g id=\"node33\" class=\"node\">\n<title>2</title>\n<path fill=\"#6ab5eb\" stroke=\"#000000\" d=\"M716,-901C716,-901 507,-901 507,-901 501,-901 495,-895 495,-889 495,-889 495,-830 495,-830 495,-824 501,-818 507,-818 507,-818 716,-818 716,-818 722,-818 728,-824 728,-830 728,-830 728,-889 728,-889 728,-895 722,-901 716,-901\"/>\n<text text-anchor=\"middle\" x=\"611.5\" y=\"-885.8\" font-family=\"Helvetica,sans-Serif\" font-size=\"14.00\" fill=\"#000000\">DiabetesPedigreeFunction &lt;= 0.3</text>\n<text text-anchor=\"middle\" x=\"611.5\" y=\"-870.8\" font-family=\"Helvetica,sans-Serif\" font-size=\"14.00\" fill=\"#000000\">entropy = 0.72</text>\n<text text-anchor=\"middle\" x=\"611.5\" y=\"-855.8\" font-family=\"Helvetica,sans-Serif\" font-size=\"14.00\" fill=\"#000000\">samples = 76</text>\n<text text-anchor=\"middle\" x=\"611.5\" y=\"-840.8\" font-family=\"Helvetica,sans-Serif\" font-size=\"14.00\" fill=\"#000000\">value = [15, 61]</text>\n<text text-anchor=\"middle\" x=\"611.5\" y=\"-825.8\" font-family=\"Helvetica,sans-Serif\" font-size=\"14.00\" fill=\"#000000\">class = 1</text>\n</g>\n<!-- 0&#45;&gt;2 -->\n<g id=\"edge32\" class=\"edge\">\n<title>0&#45;&gt;2</title>\n<path fill=\"none\" stroke=\"#000000\" d=\"M547.1254,-936.8796C554.618,-927.8733 562.6119,-918.2644 570.3279,-908.9897\"/>\n<polygon fill=\"#000000\" stroke=\"#000000\" points=\"573.0219,-911.224 576.7268,-901.2981 567.6407,-906.7472 573.0219,-911.224\"/>\n<text text-anchor=\"middle\" x=\"579.0108\" y=\"-922.4935\" font-family=\"Helvetica,sans-Serif\" font-size=\"14.00\" fill=\"#000000\">False</text>\n</g>\n<!-- 3 -->\n<g id=\"node3\" class=\"node\">\n<title>3</title>\n<path fill=\"#e78845\" stroke=\"#000000\" d=\"M250,-782C250,-782 131,-782 131,-782 125,-782 119,-776 119,-770 119,-770 119,-711 119,-711 119,-705 125,-699 131,-699 131,-699 250,-699 250,-699 256,-699 262,-705 262,-711 262,-711 262,-770 262,-770 262,-776 256,-782 250,-782\"/>\n<text text-anchor=\"middle\" x=\"190.5\" y=\"-766.8\" font-family=\"Helvetica,sans-Serif\" font-size=\"14.00\" fill=\"#000000\">Pregnancies &lt;= 2.5</text>\n<text text-anchor=\"middle\" x=\"190.5\" y=\"-751.8\" font-family=\"Helvetica,sans-Serif\" font-size=\"14.00\" fill=\"#000000\">entropy = 0.31</text>\n<text text-anchor=\"middle\" x=\"190.5\" y=\"-736.8\" font-family=\"Helvetica,sans-Serif\" font-size=\"14.00\" fill=\"#000000\">samples = 89</text>\n<text text-anchor=\"middle\" x=\"190.5\" y=\"-721.8\" font-family=\"Helvetica,sans-Serif\" font-size=\"14.00\" fill=\"#000000\">value = [84, 5]</text>\n<text text-anchor=\"middle\" x=\"190.5\" y=\"-706.8\" font-family=\"Helvetica,sans-Serif\" font-size=\"14.00\" fill=\"#000000\">class = 0</text>\n</g>\n<!-- 1&#45;&gt;3 -->\n<g id=\"edge2\" class=\"edge\">\n<title>1&#45;&gt;3</title>\n<path fill=\"none\" stroke=\"#000000\" d=\"M352.401,-826.5099C327.2746,-813.1615 297.9363,-797.5755 271.1887,-783.3659\"/>\n<polygon fill=\"#000000\" stroke=\"#000000\" points=\"272.7002,-780.2056 262.227,-778.605 269.4161,-786.3875 272.7002,-780.2056\"/>\n</g>\n<!-- 4 -->\n<g id=\"node8\" class=\"node\">\n<title>4</title>\n<path fill=\"#f5ccb0\" stroke=\"#000000\" d=\"M479.5,-782C479.5,-782 379.5,-782 379.5,-782 373.5,-782 367.5,-776 367.5,-770 367.5,-770 367.5,-711 367.5,-711 367.5,-705 373.5,-699 379.5,-699 379.5,-699 479.5,-699 479.5,-699 485.5,-699 491.5,-705 491.5,-711 491.5,-711 491.5,-770 491.5,-770 491.5,-776 485.5,-782 479.5,-782\"/>\n<text text-anchor=\"middle\" x=\"429.5\" y=\"-766.8\" font-family=\"Helvetica,sans-Serif\" font-size=\"14.00\" fill=\"#000000\">Glucose &lt;= 99.5</text>\n<text text-anchor=\"middle\" x=\"429.5\" y=\"-751.8\" font-family=\"Helvetica,sans-Serif\" font-size=\"14.00\" fill=\"#000000\">entropy = 0.95</text>\n<text text-anchor=\"middle\" x=\"429.5\" y=\"-736.8\" font-family=\"Helvetica,sans-Serif\" font-size=\"14.00\" fill=\"#000000\">samples = 251</text>\n<text text-anchor=\"middle\" x=\"429.5\" y=\"-721.8\" font-family=\"Helvetica,sans-Serif\" font-size=\"14.00\" fill=\"#000000\">value = [157, 94]</text>\n<text text-anchor=\"middle\" x=\"429.5\" y=\"-706.8\" font-family=\"Helvetica,sans-Serif\" font-size=\"14.00\" fill=\"#000000\">class = 0</text>\n</g>\n<!-- 1&#45;&gt;4 -->\n<g id=\"edge7\" class=\"edge\">\n<title>1&#45;&gt;4</title>\n<path fill=\"none\" stroke=\"#000000\" d=\"M419.7463,-817.8796C420.7907,-809.5938 421.8994,-800.798 422.9805,-792.2216\"/>\n<polygon fill=\"#000000\" stroke=\"#000000\" points=\"426.4532,-792.6573 424.2313,-782.2981 419.5081,-791.7818 426.4532,-792.6573\"/>\n</g>\n<!-- 15 -->\n<g id=\"node4\" class=\"node\">\n<title>15</title>\n<path fill=\"#e58139\" stroke=\"#000000\" d=\"M95,-655.5C95,-655.5 12,-655.5 12,-655.5 6,-655.5 0,-649.5 0,-643.5 0,-643.5 0,-599.5 0,-599.5 0,-593.5 6,-587.5 12,-587.5 12,-587.5 95,-587.5 95,-587.5 101,-587.5 107,-593.5 107,-599.5 107,-599.5 107,-643.5 107,-643.5 107,-649.5 101,-655.5 95,-655.5\"/>\n<text text-anchor=\"middle\" x=\"53.5\" y=\"-640.3\" font-family=\"Helvetica,sans-Serif\" font-size=\"14.00\" fill=\"#000000\">entropy = 0.0</text>\n<text text-anchor=\"middle\" x=\"53.5\" y=\"-625.3\" font-family=\"Helvetica,sans-Serif\" font-size=\"14.00\" fill=\"#000000\">samples = 48</text>\n<text text-anchor=\"middle\" x=\"53.5\" y=\"-610.3\" font-family=\"Helvetica,sans-Serif\" font-size=\"14.00\" fill=\"#000000\">value = [48, 0]</text>\n<text text-anchor=\"middle\" x=\"53.5\" y=\"-595.3\" font-family=\"Helvetica,sans-Serif\" font-size=\"14.00\" fill=\"#000000\">class = 0</text>\n</g>\n<!-- 3&#45;&gt;15 -->\n<g id=\"edge3\" class=\"edge\">\n<title>3&#45;&gt;15</title>\n<path fill=\"none\" stroke=\"#000000\" d=\"M142.584,-698.8796C129.0385,-687.1138 114.3092,-674.3197 100.8002,-662.5855\"/>\n<polygon fill=\"#000000\" stroke=\"#000000\" points=\"102.8503,-659.7303 93.0054,-655.8149 98.2599,-665.015 102.8503,-659.7303\"/>\n</g>\n<!-- 16 -->\n<g id=\"node5\" class=\"node\">\n<title>16</title>\n<path fill=\"#e99254\" stroke=\"#000000\" d=\"M244,-663C244,-663 137,-663 137,-663 131,-663 125,-657 125,-651 125,-651 125,-592 125,-592 125,-586 131,-580 137,-580 137,-580 244,-580 244,-580 250,-580 256,-586 256,-592 256,-592 256,-651 256,-651 256,-657 250,-663 244,-663\"/>\n<text text-anchor=\"middle\" x=\"190.5\" y=\"-647.8\" font-family=\"Helvetica,sans-Serif\" font-size=\"14.00\" fill=\"#000000\">Glucose &lt;= 105.5</text>\n<text text-anchor=\"middle\" x=\"190.5\" y=\"-632.8\" font-family=\"Helvetica,sans-Serif\" font-size=\"14.00\" fill=\"#000000\">entropy = 0.53</text>\n<text text-anchor=\"middle\" x=\"190.5\" y=\"-617.8\" font-family=\"Helvetica,sans-Serif\" font-size=\"14.00\" fill=\"#000000\">samples = 41</text>\n<text text-anchor=\"middle\" x=\"190.5\" y=\"-602.8\" font-family=\"Helvetica,sans-Serif\" font-size=\"14.00\" fill=\"#000000\">value = [36, 5]</text>\n<text text-anchor=\"middle\" x=\"190.5\" y=\"-587.8\" font-family=\"Helvetica,sans-Serif\" font-size=\"14.00\" fill=\"#000000\">class = 0</text>\n</g>\n<!-- 3&#45;&gt;16 -->\n<g id=\"edge4\" class=\"edge\">\n<title>3&#45;&gt;16</title>\n<path fill=\"none\" stroke=\"#000000\" d=\"M190.5,-698.8796C190.5,-690.6838 190.5,-681.9891 190.5,-673.5013\"/>\n<polygon fill=\"#000000\" stroke=\"#000000\" points=\"194.0001,-673.298 190.5,-663.2981 187.0001,-673.2981 194.0001,-673.298\"/>\n</g>\n<!-- 23 -->\n<g id=\"node6\" class=\"node\">\n<title>23</title>\n<path fill=\"#e58139\" stroke=\"#000000\" d=\"M105,-536.5C105,-536.5 22,-536.5 22,-536.5 16,-536.5 10,-530.5 10,-524.5 10,-524.5 10,-480.5 10,-480.5 10,-474.5 16,-468.5 22,-468.5 22,-468.5 105,-468.5 105,-468.5 111,-468.5 117,-474.5 117,-480.5 117,-480.5 117,-524.5 117,-524.5 117,-530.5 111,-536.5 105,-536.5\"/>\n<text text-anchor=\"middle\" x=\"63.5\" y=\"-521.3\" font-family=\"Helvetica,sans-Serif\" font-size=\"14.00\" fill=\"#000000\">entropy = 0.0</text>\n<text text-anchor=\"middle\" x=\"63.5\" y=\"-506.3\" font-family=\"Helvetica,sans-Serif\" font-size=\"14.00\" fill=\"#000000\">samples = 16</text>\n<text text-anchor=\"middle\" x=\"63.5\" y=\"-491.3\" font-family=\"Helvetica,sans-Serif\" font-size=\"14.00\" fill=\"#000000\">value = [16, 0]</text>\n<text text-anchor=\"middle\" x=\"63.5\" y=\"-476.3\" font-family=\"Helvetica,sans-Serif\" font-size=\"14.00\" fill=\"#000000\">class = 0</text>\n</g>\n<!-- 16&#45;&gt;23 -->\n<g id=\"edge5\" class=\"edge\">\n<title>16&#45;&gt;23</title>\n<path fill=\"none\" stroke=\"#000000\" d=\"M146.0816,-579.8796C133.6421,-568.2237 120.1257,-555.5587 107.699,-543.9148\"/>\n<polygon fill=\"#000000\" stroke=\"#000000\" points=\"109.8121,-541.0985 100.1218,-536.8149 105.0259,-546.2065 109.8121,-541.0985\"/>\n</g>\n<!-- 24 -->\n<g id=\"node7\" class=\"node\">\n<title>24</title>\n<path fill=\"#eca06a\" stroke=\"#000000\" d=\"M233.5,-536.5C233.5,-536.5 147.5,-536.5 147.5,-536.5 141.5,-536.5 135.5,-530.5 135.5,-524.5 135.5,-524.5 135.5,-480.5 135.5,-480.5 135.5,-474.5 141.5,-468.5 147.5,-468.5 147.5,-468.5 233.5,-468.5 233.5,-468.5 239.5,-468.5 245.5,-474.5 245.5,-480.5 245.5,-480.5 245.5,-524.5 245.5,-524.5 245.5,-530.5 239.5,-536.5 233.5,-536.5\"/>\n<text text-anchor=\"middle\" x=\"190.5\" y=\"-521.3\" font-family=\"Helvetica,sans-Serif\" font-size=\"14.00\" fill=\"#000000\">entropy = 0.72</text>\n<text text-anchor=\"middle\" x=\"190.5\" y=\"-506.3\" font-family=\"Helvetica,sans-Serif\" font-size=\"14.00\" fill=\"#000000\">samples = 25</text>\n<text text-anchor=\"middle\" x=\"190.5\" y=\"-491.3\" font-family=\"Helvetica,sans-Serif\" font-size=\"14.00\" fill=\"#000000\">value = [20, 5]</text>\n<text text-anchor=\"middle\" x=\"190.5\" y=\"-476.3\" font-family=\"Helvetica,sans-Serif\" font-size=\"14.00\" fill=\"#000000\">class = 0</text>\n</g>\n<!-- 16&#45;&gt;24 -->\n<g id=\"edge6\" class=\"edge\">\n<title>16&#45;&gt;24</title>\n<path fill=\"none\" stroke=\"#000000\" d=\"M190.5,-579.8796C190.5,-569.2134 190.5,-557.7021 190.5,-546.9015\"/>\n<polygon fill=\"#000000\" stroke=\"#000000\" points=\"194.0001,-546.8149 190.5,-536.8149 187.0001,-546.815 194.0001,-546.8149\"/>\n</g>\n<!-- 5 -->\n<g id=\"node9\" class=\"node\">\n<title>5</title>\n<path fill=\"#e99457\" stroke=\"#000000\" d=\"M472.5,-663C472.5,-663 386.5,-663 386.5,-663 380.5,-663 374.5,-657 374.5,-651 374.5,-651 374.5,-592 374.5,-592 374.5,-586 380.5,-580 386.5,-580 386.5,-580 472.5,-580 472.5,-580 478.5,-580 484.5,-586 484.5,-592 484.5,-592 484.5,-651 484.5,-651 484.5,-657 478.5,-663 472.5,-663\"/>\n<text text-anchor=\"middle\" x=\"429.5\" y=\"-647.8\" font-family=\"Helvetica,sans-Serif\" font-size=\"14.00\" fill=\"#000000\">Age &lt;= 23.5</text>\n<text text-anchor=\"middle\" x=\"429.5\" y=\"-632.8\" font-family=\"Helvetica,sans-Serif\" font-size=\"14.00\" fill=\"#000000\">entropy = 0.56</text>\n<text text-anchor=\"middle\" x=\"429.5\" y=\"-617.8\" font-family=\"Helvetica,sans-Serif\" font-size=\"14.00\" fill=\"#000000\">samples = 61</text>\n<text text-anchor=\"middle\" x=\"429.5\" y=\"-602.8\" font-family=\"Helvetica,sans-Serif\" font-size=\"14.00\" fill=\"#000000\">value = [53, 8]</text>\n<text text-anchor=\"middle\" x=\"429.5\" y=\"-587.8\" font-family=\"Helvetica,sans-Serif\" font-size=\"14.00\" fill=\"#000000\">class = 0</text>\n</g>\n<!-- 4&#45;&gt;5 -->\n<g id=\"edge8\" class=\"edge\">\n<title>4&#45;&gt;5</title>\n<path fill=\"none\" stroke=\"#000000\" d=\"M429.5,-698.8796C429.5,-690.6838 429.5,-681.9891 429.5,-673.5013\"/>\n<polygon fill=\"#000000\" stroke=\"#000000\" points=\"433.0001,-673.298 429.5,-663.2981 426.0001,-673.2981 433.0001,-673.298\"/>\n</g>\n<!-- 6 -->\n<g id=\"node14\" class=\"node\">\n<title>6</title>\n<path fill=\"#fae9dd\" stroke=\"#000000\" d=\"M633.5,-663C633.5,-663 533.5,-663 533.5,-663 527.5,-663 521.5,-657 521.5,-651 521.5,-651 521.5,-592 521.5,-592 521.5,-586 527.5,-580 533.5,-580 533.5,-580 633.5,-580 633.5,-580 639.5,-580 645.5,-586 645.5,-592 645.5,-592 645.5,-651 645.5,-651 645.5,-657 639.5,-663 633.5,-663\"/>\n<text text-anchor=\"middle\" x=\"583.5\" y=\"-647.8\" font-family=\"Helvetica,sans-Serif\" font-size=\"14.00\" fill=\"#000000\">BMI &lt;= 43.0</text>\n<text text-anchor=\"middle\" x=\"583.5\" y=\"-632.8\" font-family=\"Helvetica,sans-Serif\" font-size=\"14.00\" fill=\"#000000\">entropy = 0.99</text>\n<text text-anchor=\"middle\" x=\"583.5\" y=\"-617.8\" font-family=\"Helvetica,sans-Serif\" font-size=\"14.00\" fill=\"#000000\">samples = 190</text>\n<text text-anchor=\"middle\" x=\"583.5\" y=\"-602.8\" font-family=\"Helvetica,sans-Serif\" font-size=\"14.00\" fill=\"#000000\">value = [104, 86]</text>\n<text text-anchor=\"middle\" x=\"583.5\" y=\"-587.8\" font-family=\"Helvetica,sans-Serif\" font-size=\"14.00\" fill=\"#000000\">class = 0</text>\n</g>\n<!-- 4&#45;&gt;6 -->\n<g id=\"edge13\" class=\"edge\">\n<title>4&#45;&gt;6</title>\n<path fill=\"none\" stroke=\"#000000\" d=\"M483.3617,-698.8796C495.6709,-689.368 508.8497,-679.1843 521.4704,-669.432\"/>\n<polygon fill=\"#000000\" stroke=\"#000000\" points=\"523.8959,-671.9809 529.6687,-663.0969 519.6157,-666.4419 523.8959,-671.9809\"/>\n</g>\n<!-- 13 -->\n<g id=\"node10\" class=\"node\">\n<title>13</title>\n<path fill=\"#e58139\" stroke=\"#000000\" d=\"M359,-536.5C359,-536.5 276,-536.5 276,-536.5 270,-536.5 264,-530.5 264,-524.5 264,-524.5 264,-480.5 264,-480.5 264,-474.5 270,-468.5 276,-468.5 276,-468.5 359,-468.5 359,-468.5 365,-468.5 371,-474.5 371,-480.5 371,-480.5 371,-524.5 371,-524.5 371,-530.5 365,-536.5 359,-536.5\"/>\n<text text-anchor=\"middle\" x=\"317.5\" y=\"-521.3\" font-family=\"Helvetica,sans-Serif\" font-size=\"14.00\" fill=\"#000000\">entropy = 0.0</text>\n<text text-anchor=\"middle\" x=\"317.5\" y=\"-506.3\" font-family=\"Helvetica,sans-Serif\" font-size=\"14.00\" fill=\"#000000\">samples = 23</text>\n<text text-anchor=\"middle\" x=\"317.5\" y=\"-491.3\" font-family=\"Helvetica,sans-Serif\" font-size=\"14.00\" fill=\"#000000\">value = [23, 0]</text>\n<text text-anchor=\"middle\" x=\"317.5\" y=\"-476.3\" font-family=\"Helvetica,sans-Serif\" font-size=\"14.00\" fill=\"#000000\">class = 0</text>\n</g>\n<!-- 5&#45;&gt;13 -->\n<g id=\"edge9\" class=\"edge\">\n<title>5&#45;&gt;13</title>\n<path fill=\"none\" stroke=\"#000000\" d=\"M390.3278,-579.8796C379.4611,-568.3337 367.6624,-555.7976 356.7891,-544.2446\"/>\n<polygon fill=\"#000000\" stroke=\"#000000\" points=\"359.1988,-541.6982 349.7964,-536.8149 354.1014,-546.4958 359.1988,-541.6982\"/>\n</g>\n<!-- 14 -->\n<g id=\"node11\" class=\"node\">\n<title>14</title>\n<path fill=\"#eca36e\" stroke=\"#000000\" d=\"M487.5,-544C487.5,-544 401.5,-544 401.5,-544 395.5,-544 389.5,-538 389.5,-532 389.5,-532 389.5,-473 389.5,-473 389.5,-467 395.5,-461 401.5,-461 401.5,-461 487.5,-461 487.5,-461 493.5,-461 499.5,-467 499.5,-473 499.5,-473 499.5,-532 499.5,-532 499.5,-538 493.5,-544 487.5,-544\"/>\n<text text-anchor=\"middle\" x=\"444.5\" y=\"-528.8\" font-family=\"Helvetica,sans-Serif\" font-size=\"14.00\" fill=\"#000000\">Age &lt;= 32.5</text>\n<text text-anchor=\"middle\" x=\"444.5\" y=\"-513.8\" font-family=\"Helvetica,sans-Serif\" font-size=\"14.00\" fill=\"#000000\">entropy = 0.74</text>\n<text text-anchor=\"middle\" x=\"444.5\" y=\"-498.8\" font-family=\"Helvetica,sans-Serif\" font-size=\"14.00\" fill=\"#000000\">samples = 38</text>\n<text text-anchor=\"middle\" x=\"444.5\" y=\"-483.8\" font-family=\"Helvetica,sans-Serif\" font-size=\"14.00\" fill=\"#000000\">value = [30, 8]</text>\n<text text-anchor=\"middle\" x=\"444.5\" y=\"-468.8\" font-family=\"Helvetica,sans-Serif\" font-size=\"14.00\" fill=\"#000000\">class = 0</text>\n</g>\n<!-- 5&#45;&gt;14 -->\n<g id=\"edge10\" class=\"edge\">\n<title>5&#45;&gt;14</title>\n<path fill=\"none\" stroke=\"#000000\" d=\"M434.7463,-579.8796C435.7907,-571.5938 436.8994,-562.798 437.9805,-554.2216\"/>\n<polygon fill=\"#000000\" stroke=\"#000000\" points=\"441.4532,-554.6573 439.2313,-544.2981 434.5081,-553.7818 441.4532,-554.6573\"/>\n</g>\n<!-- 33 -->\n<g id=\"node12\" class=\"node\">\n<title>33</title>\n<path fill=\"#efb388\" stroke=\"#000000\" d=\"M359.5,-417.5C359.5,-417.5 273.5,-417.5 273.5,-417.5 267.5,-417.5 261.5,-411.5 261.5,-405.5 261.5,-405.5 261.5,-361.5 261.5,-361.5 261.5,-355.5 267.5,-349.5 273.5,-349.5 273.5,-349.5 359.5,-349.5 359.5,-349.5 365.5,-349.5 371.5,-355.5 371.5,-361.5 371.5,-361.5 371.5,-405.5 371.5,-405.5 371.5,-411.5 365.5,-417.5 359.5,-417.5\"/>\n<text text-anchor=\"middle\" x=\"316.5\" y=\"-402.3\" font-family=\"Helvetica,sans-Serif\" font-size=\"14.00\" fill=\"#000000\">entropy = 0.86</text>\n<text text-anchor=\"middle\" x=\"316.5\" y=\"-387.3\" font-family=\"Helvetica,sans-Serif\" font-size=\"14.00\" fill=\"#000000\">samples = 21</text>\n<text text-anchor=\"middle\" x=\"316.5\" y=\"-372.3\" font-family=\"Helvetica,sans-Serif\" font-size=\"14.00\" fill=\"#000000\">value = [15, 6]</text>\n<text text-anchor=\"middle\" x=\"316.5\" y=\"-357.3\" font-family=\"Helvetica,sans-Serif\" font-size=\"14.00\" fill=\"#000000\">class = 0</text>\n</g>\n<!-- 14&#45;&gt;33 -->\n<g id=\"edge11\" class=\"edge\">\n<title>14&#45;&gt;33</title>\n<path fill=\"none\" stroke=\"#000000\" d=\"M399.7318,-460.8796C387.1944,-449.2237 373.5716,-436.5587 361.047,-424.9148\"/>\n<polygon fill=\"#000000\" stroke=\"#000000\" points=\"363.1172,-422.0605 353.4102,-417.8149 358.3509,-427.1872 363.1172,-422.0605\"/>\n</g>\n<!-- 34 -->\n<g id=\"node13\" class=\"node\">\n<title>34</title>\n<path fill=\"#e89253\" stroke=\"#000000\" d=\"M487.5,-417.5C487.5,-417.5 401.5,-417.5 401.5,-417.5 395.5,-417.5 389.5,-411.5 389.5,-405.5 389.5,-405.5 389.5,-361.5 389.5,-361.5 389.5,-355.5 395.5,-349.5 401.5,-349.5 401.5,-349.5 487.5,-349.5 487.5,-349.5 493.5,-349.5 499.5,-355.5 499.5,-361.5 499.5,-361.5 499.5,-405.5 499.5,-405.5 499.5,-411.5 493.5,-417.5 487.5,-417.5\"/>\n<text text-anchor=\"middle\" x=\"444.5\" y=\"-402.3\" font-family=\"Helvetica,sans-Serif\" font-size=\"14.00\" fill=\"#000000\">entropy = 0.52</text>\n<text text-anchor=\"middle\" x=\"444.5\" y=\"-387.3\" font-family=\"Helvetica,sans-Serif\" font-size=\"14.00\" fill=\"#000000\">samples = 17</text>\n<text text-anchor=\"middle\" x=\"444.5\" y=\"-372.3\" font-family=\"Helvetica,sans-Serif\" font-size=\"14.00\" fill=\"#000000\">value = [15, 2]</text>\n<text text-anchor=\"middle\" x=\"444.5\" y=\"-357.3\" font-family=\"Helvetica,sans-Serif\" font-size=\"14.00\" fill=\"#000000\">class = 0</text>\n</g>\n<!-- 14&#45;&gt;34 -->\n<g id=\"edge12\" class=\"edge\">\n<title>14&#45;&gt;34</title>\n<path fill=\"none\" stroke=\"#000000\" d=\"M444.5,-460.8796C444.5,-450.2134 444.5,-438.7021 444.5,-427.9015\"/>\n<polygon fill=\"#000000\" stroke=\"#000000\" points=\"448.0001,-427.8149 444.5,-417.8149 441.0001,-427.815 448.0001,-427.8149\"/>\n</g>\n<!-- 11 -->\n<g id=\"node15\" class=\"node\">\n<title>11</title>\n<path fill=\"#f7dac5\" stroke=\"#000000\" d=\"M629.5,-544C629.5,-544 537.5,-544 537.5,-544 531.5,-544 525.5,-538 525.5,-532 525.5,-532 525.5,-473 525.5,-473 525.5,-467 531.5,-461 537.5,-461 537.5,-461 629.5,-461 629.5,-461 635.5,-461 641.5,-467 641.5,-473 641.5,-473 641.5,-532 641.5,-532 641.5,-538 635.5,-544 629.5,-544\"/>\n<text text-anchor=\"middle\" x=\"583.5\" y=\"-528.8\" font-family=\"Helvetica,sans-Serif\" font-size=\"14.00\" fill=\"#000000\">Age &lt;= 30.5</text>\n<text text-anchor=\"middle\" x=\"583.5\" y=\"-513.8\" font-family=\"Helvetica,sans-Serif\" font-size=\"14.00\" fill=\"#000000\">entropy = 0.98</text>\n<text text-anchor=\"middle\" x=\"583.5\" y=\"-498.8\" font-family=\"Helvetica,sans-Serif\" font-size=\"14.00\" fill=\"#000000\">samples = 169</text>\n<text text-anchor=\"middle\" x=\"583.5\" y=\"-483.8\" font-family=\"Helvetica,sans-Serif\" font-size=\"14.00\" fill=\"#000000\">value = [99, 70]</text>\n<text text-anchor=\"middle\" x=\"583.5\" y=\"-468.8\" font-family=\"Helvetica,sans-Serif\" font-size=\"14.00\" fill=\"#000000\">class = 0</text>\n</g>\n<!-- 6&#45;&gt;11 -->\n<g id=\"edge14\" class=\"edge\">\n<title>6&#45;&gt;11</title>\n<path fill=\"none\" stroke=\"#000000\" d=\"M583.5,-579.8796C583.5,-571.6838 583.5,-562.9891 583.5,-554.5013\"/>\n<polygon fill=\"#000000\" stroke=\"#000000\" points=\"587.0001,-554.298 583.5,-544.2981 580.0001,-554.2981 587.0001,-554.298\"/>\n</g>\n<!-- 12 -->\n<g id=\"node32\" class=\"node\">\n<title>12</title>\n<path fill=\"#77bced\" stroke=\"#000000\" d=\"M757.5,-536.5C757.5,-536.5 671.5,-536.5 671.5,-536.5 665.5,-536.5 659.5,-530.5 659.5,-524.5 659.5,-524.5 659.5,-480.5 659.5,-480.5 659.5,-474.5 665.5,-468.5 671.5,-468.5 671.5,-468.5 757.5,-468.5 757.5,-468.5 763.5,-468.5 769.5,-474.5 769.5,-480.5 769.5,-480.5 769.5,-524.5 769.5,-524.5 769.5,-530.5 763.5,-536.5 757.5,-536.5\"/>\n<text text-anchor=\"middle\" x=\"714.5\" y=\"-521.3\" font-family=\"Helvetica,sans-Serif\" font-size=\"14.00\" fill=\"#000000\">entropy = 0.79</text>\n<text text-anchor=\"middle\" x=\"714.5\" y=\"-506.3\" font-family=\"Helvetica,sans-Serif\" font-size=\"14.00\" fill=\"#000000\">samples = 21</text>\n<text text-anchor=\"middle\" x=\"714.5\" y=\"-491.3\" font-family=\"Helvetica,sans-Serif\" font-size=\"14.00\" fill=\"#000000\">value = [5, 16]</text>\n<text text-anchor=\"middle\" x=\"714.5\" y=\"-476.3\" font-family=\"Helvetica,sans-Serif\" font-size=\"14.00\" fill=\"#000000\">class = 1</text>\n</g>\n<!-- 6&#45;&gt;12 -->\n<g id=\"edge31\" class=\"edge\">\n<title>6&#45;&gt;12</title>\n<path fill=\"none\" stroke=\"#000000\" d=\"M629.3174,-579.8796C642.2697,-568.1138 656.354,-555.3197 669.2714,-543.5855\"/>\n<polygon fill=\"#000000\" stroke=\"#000000\" points=\"671.6761,-546.1296 676.7247,-536.8149 666.9694,-540.9482 671.6761,-546.1296\"/>\n</g>\n<!-- 17 -->\n<g id=\"node16\" class=\"node\">\n<title>17</title>\n<path fill=\"#f1b992\" stroke=\"#000000\" d=\"M637,-425C637,-425 530,-425 530,-425 524,-425 518,-419 518,-413 518,-413 518,-354 518,-354 518,-348 524,-342 530,-342 530,-342 637,-342 637,-342 643,-342 649,-348 649,-354 649,-354 649,-413 649,-413 649,-419 643,-425 637,-425\"/>\n<text text-anchor=\"middle\" x=\"583.5\" y=\"-409.8\" font-family=\"Helvetica,sans-Serif\" font-size=\"14.00\" fill=\"#000000\">Glucose &lt;= 123.5</text>\n<text text-anchor=\"middle\" x=\"583.5\" y=\"-394.8\" font-family=\"Helvetica,sans-Serif\" font-size=\"14.00\" fill=\"#000000\">entropy = 0.89</text>\n<text text-anchor=\"middle\" x=\"583.5\" y=\"-379.8\" font-family=\"Helvetica,sans-Serif\" font-size=\"14.00\" fill=\"#000000\">samples = 84</text>\n<text text-anchor=\"middle\" x=\"583.5\" y=\"-364.8\" font-family=\"Helvetica,sans-Serif\" font-size=\"14.00\" fill=\"#000000\">value = [58, 26]</text>\n<text text-anchor=\"middle\" x=\"583.5\" y=\"-349.8\" font-family=\"Helvetica,sans-Serif\" font-size=\"14.00\" fill=\"#000000\">class = 0</text>\n</g>\n<!-- 11&#45;&gt;17 -->\n<g id=\"edge15\" class=\"edge\">\n<title>11&#45;&gt;17</title>\n<path fill=\"none\" stroke=\"#000000\" d=\"M583.5,-460.8796C583.5,-452.6838 583.5,-443.9891 583.5,-435.5013\"/>\n<polygon fill=\"#000000\" stroke=\"#000000\" points=\"587.0001,-435.298 583.5,-425.2981 580.0001,-435.2981 587.0001,-435.298\"/>\n</g>\n<!-- 18 -->\n<g id=\"node23\" class=\"node\">\n<title>18</title>\n<path fill=\"#f2f8fd\" stroke=\"#000000\" d=\"M900.5,-425C900.5,-425 682.5,-425 682.5,-425 676.5,-425 670.5,-419 670.5,-413 670.5,-413 670.5,-354 670.5,-354 670.5,-348 676.5,-342 682.5,-342 682.5,-342 900.5,-342 900.5,-342 906.5,-342 912.5,-348 912.5,-354 912.5,-354 912.5,-413 912.5,-413 912.5,-419 906.5,-425 900.5,-425\"/>\n<text text-anchor=\"middle\" x=\"791.5\" y=\"-409.8\" font-family=\"Helvetica,sans-Serif\" font-size=\"14.00\" fill=\"#000000\">DiabetesPedigreeFunction &lt;= 0.53</text>\n<text text-anchor=\"middle\" x=\"791.5\" y=\"-394.8\" font-family=\"Helvetica,sans-Serif\" font-size=\"14.00\" fill=\"#000000\">entropy = 1.0</text>\n<text text-anchor=\"middle\" x=\"791.5\" y=\"-379.8\" font-family=\"Helvetica,sans-Serif\" font-size=\"14.00\" fill=\"#000000\">samples = 85</text>\n<text text-anchor=\"middle\" x=\"791.5\" y=\"-364.8\" font-family=\"Helvetica,sans-Serif\" font-size=\"14.00\" fill=\"#000000\">value = [41, 44]</text>\n<text text-anchor=\"middle\" x=\"791.5\" y=\"-349.8\" font-family=\"Helvetica,sans-Serif\" font-size=\"14.00\" fill=\"#000000\">class = 1</text>\n</g>\n<!-- 11&#45;&gt;18 -->\n<g id=\"edge22\" class=\"edge\">\n<title>11&#45;&gt;18</title>\n<path fill=\"none\" stroke=\"#000000\" d=\"M641.8571,-466.1061C644.7715,-464.3663 647.6643,-462.656 650.5,-461 668.1197,-450.7102 687.1643,-439.9826 705.386,-429.9048\"/>\n<polygon fill=\"#000000\" stroke=\"#000000\" points=\"707.1881,-432.908 714.2552,-425.0146 703.8082,-426.7781 707.1881,-432.908\"/>\n</g>\n<!-- 19 -->\n<g id=\"node17\" class=\"node\">\n<title>19</title>\n<path fill=\"#eba069\" stroke=\"#000000\" d=\"M432.5,-306C432.5,-306 292.5,-306 292.5,-306 286.5,-306 280.5,-300 280.5,-294 280.5,-294 280.5,-235 280.5,-235 280.5,-229 286.5,-223 292.5,-223 292.5,-223 432.5,-223 432.5,-223 438.5,-223 444.5,-229 444.5,-235 444.5,-235 444.5,-294 444.5,-294 444.5,-300 438.5,-306 432.5,-306\"/>\n<text text-anchor=\"middle\" x=\"362.5\" y=\"-290.8\" font-family=\"Helvetica,sans-Serif\" font-size=\"14.00\" fill=\"#000000\">SkinThickness &lt;= 29.5</text>\n<text text-anchor=\"middle\" x=\"362.5\" y=\"-275.8\" font-family=\"Helvetica,sans-Serif\" font-size=\"14.00\" fill=\"#000000\">entropy = 0.71</text>\n<text text-anchor=\"middle\" x=\"362.5\" y=\"-260.8\" font-family=\"Helvetica,sans-Serif\" font-size=\"14.00\" fill=\"#000000\">samples = 46</text>\n<text text-anchor=\"middle\" x=\"362.5\" y=\"-245.8\" font-family=\"Helvetica,sans-Serif\" font-size=\"14.00\" fill=\"#000000\">value = [37, 9]</text>\n<text text-anchor=\"middle\" x=\"362.5\" y=\"-230.8\" font-family=\"Helvetica,sans-Serif\" font-size=\"14.00\" fill=\"#000000\">class = 0</text>\n</g>\n<!-- 17&#45;&gt;19 -->\n<g id=\"edge16\" class=\"edge\">\n<title>17&#45;&gt;19</title>\n<path fill=\"none\" stroke=\"#000000\" d=\"M517.6855,-346.9981C514.5829,-345.3039 511.5091,-343.631 508.5,-342 489.7693,-331.8475 469.6234,-321.0655 450.4585,-310.873\"/>\n<polygon fill=\"#000000\" stroke=\"#000000\" points=\"451.9095,-307.6806 441.4363,-306.0796 448.6251,-313.8623 451.9095,-307.6806\"/>\n</g>\n<!-- 20 -->\n<g id=\"node20\" class=\"node\">\n<title>20</title>\n<path fill=\"#fae7d9\" stroke=\"#000000\" d=\"M654,-306C654,-306 513,-306 513,-306 507,-306 501,-300 501,-294 501,-294 501,-235 501,-235 501,-229 507,-223 513,-223 513,-223 654,-223 654,-223 660,-223 666,-229 666,-235 666,-235 666,-294 666,-294 666,-300 660,-306 654,-306\"/>\n<text text-anchor=\"middle\" x=\"583.5\" y=\"-290.8\" font-family=\"Helvetica,sans-Serif\" font-size=\"14.00\" fill=\"#000000\">BloodPressure &lt;= 71.0</text>\n<text text-anchor=\"middle\" x=\"583.5\" y=\"-275.8\" font-family=\"Helvetica,sans-Serif\" font-size=\"14.00\" fill=\"#000000\">entropy = 0.99</text>\n<text text-anchor=\"middle\" x=\"583.5\" y=\"-260.8\" font-family=\"Helvetica,sans-Serif\" font-size=\"14.00\" fill=\"#000000\">samples = 38</text>\n<text text-anchor=\"middle\" x=\"583.5\" y=\"-245.8\" font-family=\"Helvetica,sans-Serif\" font-size=\"14.00\" fill=\"#000000\">value = [21, 17]</text>\n<text text-anchor=\"middle\" x=\"583.5\" y=\"-230.8\" font-family=\"Helvetica,sans-Serif\" font-size=\"14.00\" fill=\"#000000\">class = 0</text>\n</g>\n<!-- 17&#45;&gt;20 -->\n<g id=\"edge19\" class=\"edge\">\n<title>17&#45;&gt;20</title>\n<path fill=\"none\" stroke=\"#000000\" d=\"M583.5,-341.8796C583.5,-333.6838 583.5,-324.9891 583.5,-316.5013\"/>\n<polygon fill=\"#000000\" stroke=\"#000000\" points=\"587.0001,-316.298 583.5,-306.2981 580.0001,-316.2981 587.0001,-316.298\"/>\n</g>\n<!-- 25 -->\n<g id=\"node18\" class=\"node\">\n<title>25</title>\n<path fill=\"#e88e4d\" stroke=\"#000000\" d=\"M277.5,-179.5C277.5,-179.5 191.5,-179.5 191.5,-179.5 185.5,-179.5 179.5,-173.5 179.5,-167.5 179.5,-167.5 179.5,-123.5 179.5,-123.5 179.5,-117.5 185.5,-111.5 191.5,-111.5 191.5,-111.5 277.5,-111.5 277.5,-111.5 283.5,-111.5 289.5,-117.5 289.5,-123.5 289.5,-123.5 289.5,-167.5 289.5,-167.5 289.5,-173.5 283.5,-179.5 277.5,-179.5\"/>\n<text text-anchor=\"middle\" x=\"234.5\" y=\"-164.3\" font-family=\"Helvetica,sans-Serif\" font-size=\"14.00\" fill=\"#000000\">entropy = 0.44</text>\n<text text-anchor=\"middle\" x=\"234.5\" y=\"-149.3\" font-family=\"Helvetica,sans-Serif\" font-size=\"14.00\" fill=\"#000000\">samples = 22</text>\n<text text-anchor=\"middle\" x=\"234.5\" y=\"-134.3\" font-family=\"Helvetica,sans-Serif\" font-size=\"14.00\" fill=\"#000000\">value = [20, 2]</text>\n<text text-anchor=\"middle\" x=\"234.5\" y=\"-119.3\" font-family=\"Helvetica,sans-Serif\" font-size=\"14.00\" fill=\"#000000\">class = 0</text>\n</g>\n<!-- 19&#45;&gt;25 -->\n<g id=\"edge17\" class=\"edge\">\n<title>19&#45;&gt;25</title>\n<path fill=\"none\" stroke=\"#000000\" d=\"M317.7318,-222.8796C305.1944,-211.2237 291.5716,-198.5587 279.047,-186.9148\"/>\n<polygon fill=\"#000000\" stroke=\"#000000\" points=\"281.1172,-184.0605 271.4102,-179.8149 276.3509,-189.1872 281.1172,-184.0605\"/>\n</g>\n<!-- 26 -->\n<g id=\"node19\" class=\"node\">\n<title>26</title>\n<path fill=\"#f0b58b\" stroke=\"#000000\" d=\"M405.5,-179.5C405.5,-179.5 319.5,-179.5 319.5,-179.5 313.5,-179.5 307.5,-173.5 307.5,-167.5 307.5,-167.5 307.5,-123.5 307.5,-123.5 307.5,-117.5 313.5,-111.5 319.5,-111.5 319.5,-111.5 405.5,-111.5 405.5,-111.5 411.5,-111.5 417.5,-117.5 417.5,-123.5 417.5,-123.5 417.5,-167.5 417.5,-167.5 417.5,-173.5 411.5,-179.5 405.5,-179.5\"/>\n<text text-anchor=\"middle\" x=\"362.5\" y=\"-164.3\" font-family=\"Helvetica,sans-Serif\" font-size=\"14.00\" fill=\"#000000\">entropy = 0.87</text>\n<text text-anchor=\"middle\" x=\"362.5\" y=\"-149.3\" font-family=\"Helvetica,sans-Serif\" font-size=\"14.00\" fill=\"#000000\">samples = 24</text>\n<text text-anchor=\"middle\" x=\"362.5\" y=\"-134.3\" font-family=\"Helvetica,sans-Serif\" font-size=\"14.00\" fill=\"#000000\">value = [17, 7]</text>\n<text text-anchor=\"middle\" x=\"362.5\" y=\"-119.3\" font-family=\"Helvetica,sans-Serif\" font-size=\"14.00\" fill=\"#000000\">class = 0</text>\n</g>\n<!-- 19&#45;&gt;26 -->\n<g id=\"edge18\" class=\"edge\">\n<title>19&#45;&gt;26</title>\n<path fill=\"none\" stroke=\"#000000\" d=\"M362.5,-222.8796C362.5,-212.2134 362.5,-200.7021 362.5,-189.9015\"/>\n<polygon fill=\"#000000\" stroke=\"#000000\" points=\"366.0001,-189.8149 362.5,-179.8149 359.0001,-189.815 366.0001,-189.8149\"/>\n</g>\n<!-- 21 -->\n<g id=\"node21\" class=\"node\">\n<title>21</title>\n<path fill=\"#a3d1f3\" stroke=\"#000000\" d=\"M533.5,-179.5C533.5,-179.5 447.5,-179.5 447.5,-179.5 441.5,-179.5 435.5,-173.5 435.5,-167.5 435.5,-167.5 435.5,-123.5 435.5,-123.5 435.5,-117.5 441.5,-111.5 447.5,-111.5 447.5,-111.5 533.5,-111.5 533.5,-111.5 539.5,-111.5 545.5,-117.5 545.5,-123.5 545.5,-123.5 545.5,-167.5 545.5,-167.5 545.5,-173.5 539.5,-179.5 533.5,-179.5\"/>\n<text text-anchor=\"middle\" x=\"490.5\" y=\"-164.3\" font-family=\"Helvetica,sans-Serif\" font-size=\"14.00\" fill=\"#000000\">entropy = 0.93</text>\n<text text-anchor=\"middle\" x=\"490.5\" y=\"-149.3\" font-family=\"Helvetica,sans-Serif\" font-size=\"14.00\" fill=\"#000000\">samples = 23</text>\n<text text-anchor=\"middle\" x=\"490.5\" y=\"-134.3\" font-family=\"Helvetica,sans-Serif\" font-size=\"14.00\" fill=\"#000000\">value = [8, 15]</text>\n<text text-anchor=\"middle\" x=\"490.5\" y=\"-119.3\" font-family=\"Helvetica,sans-Serif\" font-size=\"14.00\" fill=\"#000000\">class = 1</text>\n</g>\n<!-- 20&#45;&gt;21 -->\n<g id=\"edge20\" class=\"edge\">\n<title>20&#45;&gt;21</title>\n<path fill=\"none\" stroke=\"#000000\" d=\"M550.9731,-222.8796C542.1217,-211.5536 532.5257,-199.2748 523.6407,-187.9058\"/>\n<polygon fill=\"#000000\" stroke=\"#000000\" points=\"526.2331,-185.539 517.3176,-179.8149 520.7176,-189.8494 526.2331,-185.539\"/>\n</g>\n<!-- 22 -->\n<g id=\"node22\" class=\"node\">\n<title>22</title>\n<path fill=\"#e99457\" stroke=\"#000000\" d=\"M661.5,-179.5C661.5,-179.5 575.5,-179.5 575.5,-179.5 569.5,-179.5 563.5,-173.5 563.5,-167.5 563.5,-167.5 563.5,-123.5 563.5,-123.5 563.5,-117.5 569.5,-111.5 575.5,-111.5 575.5,-111.5 661.5,-111.5 661.5,-111.5 667.5,-111.5 673.5,-117.5 673.5,-123.5 673.5,-123.5 673.5,-167.5 673.5,-167.5 673.5,-173.5 667.5,-179.5 661.5,-179.5\"/>\n<text text-anchor=\"middle\" x=\"618.5\" y=\"-164.3\" font-family=\"Helvetica,sans-Serif\" font-size=\"14.00\" fill=\"#000000\">entropy = 0.57</text>\n<text text-anchor=\"middle\" x=\"618.5\" y=\"-149.3\" font-family=\"Helvetica,sans-Serif\" font-size=\"14.00\" fill=\"#000000\">samples = 15</text>\n<text text-anchor=\"middle\" x=\"618.5\" y=\"-134.3\" font-family=\"Helvetica,sans-Serif\" font-size=\"14.00\" fill=\"#000000\">value = [13, 2]</text>\n<text text-anchor=\"middle\" x=\"618.5\" y=\"-119.3\" font-family=\"Helvetica,sans-Serif\" font-size=\"14.00\" fill=\"#000000\">class = 0</text>\n</g>\n<!-- 20&#45;&gt;22 -->\n<g id=\"edge21\" class=\"edge\">\n<title>20&#45;&gt;22</title>\n<path fill=\"none\" stroke=\"#000000\" d=\"M595.7413,-222.8796C598.9108,-212.1034 602.3339,-200.4647 605.5389,-189.5677\"/>\n<polygon fill=\"#000000\" stroke=\"#000000\" points=\"608.9434,-190.3962 608.4074,-179.8149 602.2279,-188.421 608.9434,-190.3962\"/>\n</g>\n<!-- 27 -->\n<g id=\"node24\" class=\"node\">\n<title>27</title>\n<path fill=\"#fbeade\" stroke=\"#000000\" d=\"M861.5,-306C861.5,-306 721.5,-306 721.5,-306 715.5,-306 709.5,-300 709.5,-294 709.5,-294 709.5,-235 709.5,-235 709.5,-229 715.5,-223 721.5,-223 721.5,-223 861.5,-223 861.5,-223 867.5,-223 873.5,-229 873.5,-235 873.5,-235 873.5,-294 873.5,-294 873.5,-300 867.5,-306 861.5,-306\"/>\n<text text-anchor=\"middle\" x=\"791.5\" y=\"-290.8\" font-family=\"Helvetica,sans-Serif\" font-size=\"14.00\" fill=\"#000000\">SkinThickness &lt;= 26.5</text>\n<text text-anchor=\"middle\" x=\"791.5\" y=\"-275.8\" font-family=\"Helvetica,sans-Serif\" font-size=\"14.00\" fill=\"#000000\">entropy = 0.99</text>\n<text text-anchor=\"middle\" x=\"791.5\" y=\"-260.8\" font-family=\"Helvetica,sans-Serif\" font-size=\"14.00\" fill=\"#000000\">samples = 55</text>\n<text text-anchor=\"middle\" x=\"791.5\" y=\"-245.8\" font-family=\"Helvetica,sans-Serif\" font-size=\"14.00\" fill=\"#000000\">value = [30, 25]</text>\n<text text-anchor=\"middle\" x=\"791.5\" y=\"-230.8\" font-family=\"Helvetica,sans-Serif\" font-size=\"14.00\" fill=\"#000000\">class = 0</text>\n</g>\n<!-- 18&#45;&gt;27 -->\n<g id=\"edge23\" class=\"edge\">\n<title>18&#45;&gt;27</title>\n<path fill=\"none\" stroke=\"#000000\" d=\"M791.5,-341.8796C791.5,-333.6838 791.5,-324.9891 791.5,-316.5013\"/>\n<polygon fill=\"#000000\" stroke=\"#000000\" points=\"795.0001,-316.298 791.5,-306.2981 788.0001,-316.2981 795.0001,-316.298\"/>\n</g>\n<!-- 28 -->\n<g id=\"node29\" class=\"node\">\n<title>28</title>\n<path fill=\"#acd6f4\" stroke=\"#000000\" d=\"M1091.5,-306C1091.5,-306 951.5,-306 951.5,-306 945.5,-306 939.5,-300 939.5,-294 939.5,-294 939.5,-235 939.5,-235 939.5,-229 945.5,-223 951.5,-223 951.5,-223 1091.5,-223 1091.5,-223 1097.5,-223 1103.5,-229 1103.5,-235 1103.5,-235 1103.5,-294 1103.5,-294 1103.5,-300 1097.5,-306 1091.5,-306\"/>\n<text text-anchor=\"middle\" x=\"1021.5\" y=\"-290.8\" font-family=\"Helvetica,sans-Serif\" font-size=\"14.00\" fill=\"#000000\">SkinThickness &lt;= 27.5</text>\n<text text-anchor=\"middle\" x=\"1021.5\" y=\"-275.8\" font-family=\"Helvetica,sans-Serif\" font-size=\"14.00\" fill=\"#000000\">entropy = 0.95</text>\n<text text-anchor=\"middle\" x=\"1021.5\" y=\"-260.8\" font-family=\"Helvetica,sans-Serif\" font-size=\"14.00\" fill=\"#000000\">samples = 30</text>\n<text text-anchor=\"middle\" x=\"1021.5\" y=\"-245.8\" font-family=\"Helvetica,sans-Serif\" font-size=\"14.00\" fill=\"#000000\">value = [11, 19]</text>\n<text text-anchor=\"middle\" x=\"1021.5\" y=\"-230.8\" font-family=\"Helvetica,sans-Serif\" font-size=\"14.00\" fill=\"#000000\">class = 1</text>\n</g>\n<!-- 18&#45;&gt;28 -->\n<g id=\"edge28\" class=\"edge\">\n<title>18&#45;&gt;28</title>\n<path fill=\"none\" stroke=\"#000000\" d=\"M871.9428,-341.8796C891.3771,-331.8244 912.263,-321.0183 932.0811,-310.7645\"/>\n<polygon fill=\"#000000\" stroke=\"#000000\" points=\"933.8293,-313.8008 941.1026,-306.0969 930.6126,-307.5837 933.8293,-313.8008\"/>\n</g>\n<!-- 29 -->\n<g id=\"node25\" class=\"node\">\n<title>29</title>\n<path fill=\"#c0e0f7\" stroke=\"#000000\" d=\"M811,-187C811,-187 704,-187 704,-187 698,-187 692,-181 692,-175 692,-175 692,-116 692,-116 692,-110 698,-104 704,-104 704,-104 811,-104 811,-104 817,-104 823,-110 823,-116 823,-116 823,-175 823,-175 823,-181 817,-187 811,-187\"/>\n<text text-anchor=\"middle\" x=\"757.5\" y=\"-171.8\" font-family=\"Helvetica,sans-Serif\" font-size=\"14.00\" fill=\"#000000\">Glucose &lt;= 122.5</text>\n<text text-anchor=\"middle\" x=\"757.5\" y=\"-156.8\" font-family=\"Helvetica,sans-Serif\" font-size=\"14.00\" fill=\"#000000\">entropy = 0.97</text>\n<text text-anchor=\"middle\" x=\"757.5\" y=\"-141.8\" font-family=\"Helvetica,sans-Serif\" font-size=\"14.00\" fill=\"#000000\">samples = 32</text>\n<text text-anchor=\"middle\" x=\"757.5\" y=\"-126.8\" font-family=\"Helvetica,sans-Serif\" font-size=\"14.00\" fill=\"#000000\">value = [13, 19]</text>\n<text text-anchor=\"middle\" x=\"757.5\" y=\"-111.8\" font-family=\"Helvetica,sans-Serif\" font-size=\"14.00\" fill=\"#000000\">class = 1</text>\n</g>\n<!-- 27&#45;&gt;29 -->\n<g id=\"edge24\" class=\"edge\">\n<title>27&#45;&gt;29</title>\n<path fill=\"none\" stroke=\"#000000\" d=\"M779.6084,-222.8796C777.2153,-214.5037 774.6733,-205.6067 772.1977,-196.942\"/>\n<polygon fill=\"#000000\" stroke=\"#000000\" points=\"775.5549,-195.9518 769.4423,-187.2981 768.8243,-197.8749 775.5549,-195.9518\"/>\n</g>\n<!-- 30 -->\n<g id=\"node28\" class=\"node\">\n<title>30</title>\n<path fill=\"#eead7f\" stroke=\"#000000\" d=\"M939.5,-179.5C939.5,-179.5 853.5,-179.5 853.5,-179.5 847.5,-179.5 841.5,-173.5 841.5,-167.5 841.5,-167.5 841.5,-123.5 841.5,-123.5 841.5,-117.5 847.5,-111.5 853.5,-111.5 853.5,-111.5 939.5,-111.5 939.5,-111.5 945.5,-111.5 951.5,-117.5 951.5,-123.5 951.5,-123.5 951.5,-167.5 951.5,-167.5 951.5,-173.5 945.5,-179.5 939.5,-179.5\"/>\n<text text-anchor=\"middle\" x=\"896.5\" y=\"-164.3\" font-family=\"Helvetica,sans-Serif\" font-size=\"14.00\" fill=\"#000000\">entropy = 0.83</text>\n<text text-anchor=\"middle\" x=\"896.5\" y=\"-149.3\" font-family=\"Helvetica,sans-Serif\" font-size=\"14.00\" fill=\"#000000\">samples = 23</text>\n<text text-anchor=\"middle\" x=\"896.5\" y=\"-134.3\" font-family=\"Helvetica,sans-Serif\" font-size=\"14.00\" fill=\"#000000\">value = [17, 6]</text>\n<text text-anchor=\"middle\" x=\"896.5\" y=\"-119.3\" font-family=\"Helvetica,sans-Serif\" font-size=\"14.00\" fill=\"#000000\">class = 0</text>\n</g>\n<!-- 27&#45;&gt;30 -->\n<g id=\"edge27\" class=\"edge\">\n<title>27&#45;&gt;30</title>\n<path fill=\"none\" stroke=\"#000000\" d=\"M828.2239,-222.8796C838.3144,-211.4436 849.2621,-199.0363 859.375,-187.575\"/>\n<polygon fill=\"#000000\" stroke=\"#000000\" points=\"862.2303,-189.629 866.2221,-179.8149 856.9814,-184.9977 862.2303,-189.629\"/>\n</g>\n<!-- 35 -->\n<g id=\"node26\" class=\"node\">\n<title>35</title>\n<path fill=\"#93caf1\" stroke=\"#000000\" d=\"M737,-68C737,-68 654,-68 654,-68 648,-68 642,-62 642,-56 642,-56 642,-12 642,-12 642,-6 648,0 654,0 654,0 737,0 737,0 743,0 749,-6 749,-12 749,-12 749,-56 749,-56 749,-62 743,-68 737,-68\"/>\n<text text-anchor=\"middle\" x=\"695.5\" y=\"-52.8\" font-family=\"Helvetica,sans-Serif\" font-size=\"14.00\" fill=\"#000000\">entropy = 0.9</text>\n<text text-anchor=\"middle\" x=\"695.5\" y=\"-37.8\" font-family=\"Helvetica,sans-Serif\" font-size=\"14.00\" fill=\"#000000\">samples = 16</text>\n<text text-anchor=\"middle\" x=\"695.5\" y=\"-22.8\" font-family=\"Helvetica,sans-Serif\" font-size=\"14.00\" fill=\"#000000\">value = [5, 11]</text>\n<text text-anchor=\"middle\" x=\"695.5\" y=\"-7.8\" font-family=\"Helvetica,sans-Serif\" font-size=\"14.00\" fill=\"#000000\">class = 1</text>\n</g>\n<!-- 29&#45;&gt;35 -->\n<g id=\"edge25\" class=\"edge\">\n<title>29&#45;&gt;35</title>\n<path fill=\"none\" stroke=\"#000000\" d=\"M734.4135,-103.9815C729.5585,-95.2504 724.426,-86.0202 719.5371,-77.2281\"/>\n<polygon fill=\"#000000\" stroke=\"#000000\" points=\"722.4712,-75.3025 714.5524,-68.2637 716.3533,-78.7043 722.4712,-75.3025\"/>\n</g>\n<!-- 36 -->\n<g id=\"node27\" class=\"node\">\n<title>36</title>\n<path fill=\"#ffffff\" stroke=\"#000000\" d=\"M859.5,-68C859.5,-68 779.5,-68 779.5,-68 773.5,-68 767.5,-62 767.5,-56 767.5,-56 767.5,-12 767.5,-12 767.5,-6 773.5,0 779.5,0 779.5,0 859.5,0 859.5,0 865.5,0 871.5,-6 871.5,-12 871.5,-12 871.5,-56 871.5,-56 871.5,-62 865.5,-68 859.5,-68\"/>\n<text text-anchor=\"middle\" x=\"819.5\" y=\"-52.8\" font-family=\"Helvetica,sans-Serif\" font-size=\"14.00\" fill=\"#000000\">entropy = 1.0</text>\n<text text-anchor=\"middle\" x=\"819.5\" y=\"-37.8\" font-family=\"Helvetica,sans-Serif\" font-size=\"14.00\" fill=\"#000000\">samples = 16</text>\n<text text-anchor=\"middle\" x=\"819.5\" y=\"-22.8\" font-family=\"Helvetica,sans-Serif\" font-size=\"14.00\" fill=\"#000000\">value = [8, 8]</text>\n<text text-anchor=\"middle\" x=\"819.5\" y=\"-7.8\" font-family=\"Helvetica,sans-Serif\" font-size=\"14.00\" fill=\"#000000\">class = 0</text>\n</g>\n<!-- 29&#45;&gt;36 -->\n<g id=\"edge26\" class=\"edge\">\n<title>29&#45;&gt;36</title>\n<path fill=\"none\" stroke=\"#000000\" d=\"M780.5865,-103.9815C785.4415,-95.2504 790.574,-86.0202 795.4629,-77.2281\"/>\n<polygon fill=\"#000000\" stroke=\"#000000\" points=\"798.6467,-78.7043 800.4476,-68.2637 792.5288,-75.3025 798.6467,-78.7043\"/>\n</g>\n<!-- 31 -->\n<g id=\"node30\" class=\"node\">\n<title>31</title>\n<path fill=\"#fcefe6\" stroke=\"#000000\" d=\"M1061.5,-179.5C1061.5,-179.5 981.5,-179.5 981.5,-179.5 975.5,-179.5 969.5,-173.5 969.5,-167.5 969.5,-167.5 969.5,-123.5 969.5,-123.5 969.5,-117.5 975.5,-111.5 981.5,-111.5 981.5,-111.5 1061.5,-111.5 1061.5,-111.5 1067.5,-111.5 1073.5,-117.5 1073.5,-123.5 1073.5,-123.5 1073.5,-167.5 1073.5,-167.5 1073.5,-173.5 1067.5,-179.5 1061.5,-179.5\"/>\n<text text-anchor=\"middle\" x=\"1021.5\" y=\"-164.3\" font-family=\"Helvetica,sans-Serif\" font-size=\"14.00\" fill=\"#000000\">entropy = 1.0</text>\n<text text-anchor=\"middle\" x=\"1021.5\" y=\"-149.3\" font-family=\"Helvetica,sans-Serif\" font-size=\"14.00\" fill=\"#000000\">samples = 15</text>\n<text text-anchor=\"middle\" x=\"1021.5\" y=\"-134.3\" font-family=\"Helvetica,sans-Serif\" font-size=\"14.00\" fill=\"#000000\">value = [8, 7]</text>\n<text text-anchor=\"middle\" x=\"1021.5\" y=\"-119.3\" font-family=\"Helvetica,sans-Serif\" font-size=\"14.00\" fill=\"#000000\">class = 0</text>\n</g>\n<!-- 28&#45;&gt;31 -->\n<g id=\"edge29\" class=\"edge\">\n<title>28&#45;&gt;31</title>\n<path fill=\"none\" stroke=\"#000000\" d=\"M1021.5,-222.8796C1021.5,-212.2134 1021.5,-200.7021 1021.5,-189.9015\"/>\n<polygon fill=\"#000000\" stroke=\"#000000\" points=\"1025.0001,-189.8149 1021.5,-179.8149 1018.0001,-189.815 1025.0001,-189.8149\"/>\n</g>\n<!-- 32 -->\n<g id=\"node31\" class=\"node\">\n<title>32</title>\n<path fill=\"#6ab6ec\" stroke=\"#000000\" d=\"M1189.5,-179.5C1189.5,-179.5 1103.5,-179.5 1103.5,-179.5 1097.5,-179.5 1091.5,-173.5 1091.5,-167.5 1091.5,-167.5 1091.5,-123.5 1091.5,-123.5 1091.5,-117.5 1097.5,-111.5 1103.5,-111.5 1103.5,-111.5 1189.5,-111.5 1189.5,-111.5 1195.5,-111.5 1201.5,-117.5 1201.5,-123.5 1201.5,-123.5 1201.5,-167.5 1201.5,-167.5 1201.5,-173.5 1195.5,-179.5 1189.5,-179.5\"/>\n<text text-anchor=\"middle\" x=\"1146.5\" y=\"-164.3\" font-family=\"Helvetica,sans-Serif\" font-size=\"14.00\" fill=\"#000000\">entropy = 0.72</text>\n<text text-anchor=\"middle\" x=\"1146.5\" y=\"-149.3\" font-family=\"Helvetica,sans-Serif\" font-size=\"14.00\" fill=\"#000000\">samples = 15</text>\n<text text-anchor=\"middle\" x=\"1146.5\" y=\"-134.3\" font-family=\"Helvetica,sans-Serif\" font-size=\"14.00\" fill=\"#000000\">value = [3, 12]</text>\n<text text-anchor=\"middle\" x=\"1146.5\" y=\"-119.3\" font-family=\"Helvetica,sans-Serif\" font-size=\"14.00\" fill=\"#000000\">class = 1</text>\n</g>\n<!-- 28&#45;&gt;32 -->\n<g id=\"edge30\" class=\"edge\">\n<title>28&#45;&gt;32</title>\n<path fill=\"none\" stroke=\"#000000\" d=\"M1065.2189,-222.8796C1077.4625,-211.2237 1090.7661,-198.5587 1102.9971,-186.9148\"/>\n<polygon fill=\"#000000\" stroke=\"#000000\" points=\"1105.6254,-189.245 1110.4549,-179.8149 1100.7988,-184.1751 1105.6254,-189.245\"/>\n</g>\n<!-- 7 -->\n<g id=\"node34\" class=\"node\">\n<title>7</title>\n<path fill=\"#deeffb\" stroke=\"#000000\" d=\"M642.5,-774.5C642.5,-774.5 550.5,-774.5 550.5,-774.5 544.5,-774.5 538.5,-768.5 538.5,-762.5 538.5,-762.5 538.5,-718.5 538.5,-718.5 538.5,-712.5 544.5,-706.5 550.5,-706.5 550.5,-706.5 642.5,-706.5 642.5,-706.5 648.5,-706.5 654.5,-712.5 654.5,-718.5 654.5,-718.5 654.5,-762.5 654.5,-762.5 654.5,-768.5 648.5,-774.5 642.5,-774.5\"/>\n<text text-anchor=\"middle\" x=\"596.5\" y=\"-759.3\" font-family=\"Helvetica,sans-Serif\" font-size=\"14.00\" fill=\"#000000\">entropy = 0.99</text>\n<text text-anchor=\"middle\" x=\"596.5\" y=\"-744.3\" font-family=\"Helvetica,sans-Serif\" font-size=\"14.00\" fill=\"#000000\">samples = 22</text>\n<text text-anchor=\"middle\" x=\"596.5\" y=\"-729.3\" font-family=\"Helvetica,sans-Serif\" font-size=\"14.00\" fill=\"#000000\">value = [10, 12]</text>\n<text text-anchor=\"middle\" x=\"596.5\" y=\"-714.3\" font-family=\"Helvetica,sans-Serif\" font-size=\"14.00\" fill=\"#000000\">class = 1</text>\n</g>\n<!-- 2&#45;&gt;7 -->\n<g id=\"edge33\" class=\"edge\">\n<title>2&#45;&gt;7</title>\n<path fill=\"none\" stroke=\"#000000\" d=\"M606.2537,-817.8796C604.9092,-807.2134 603.4582,-795.7021 602.0968,-784.9015\"/>\n<polygon fill=\"#000000\" stroke=\"#000000\" points=\"605.5486,-784.2987 600.8254,-774.8149 598.6036,-785.1742 605.5486,-784.2987\"/>\n</g>\n<!-- 8 -->\n<g id=\"node35\" class=\"node\">\n<title>8</title>\n<path fill=\"#4da7e8\" stroke=\"#000000\" d=\"M780,-782C780,-782 685,-782 685,-782 679,-782 673,-776 673,-770 673,-770 673,-711 673,-711 673,-705 679,-699 685,-699 685,-699 780,-699 780,-699 786,-699 792,-705 792,-711 792,-711 792,-770 792,-770 792,-776 786,-782 780,-782\"/>\n<text text-anchor=\"middle\" x=\"732.5\" y=\"-766.8\" font-family=\"Helvetica,sans-Serif\" font-size=\"14.00\" fill=\"#000000\">Insulin &lt;= 247.0</text>\n<text text-anchor=\"middle\" x=\"732.5\" y=\"-751.8\" font-family=\"Helvetica,sans-Serif\" font-size=\"14.00\" fill=\"#000000\">entropy = 0.45</text>\n<text text-anchor=\"middle\" x=\"732.5\" y=\"-736.8\" font-family=\"Helvetica,sans-Serif\" font-size=\"14.00\" fill=\"#000000\">samples = 54</text>\n<text text-anchor=\"middle\" x=\"732.5\" y=\"-721.8\" font-family=\"Helvetica,sans-Serif\" font-size=\"14.00\" fill=\"#000000\">value = [5, 49]</text>\n<text text-anchor=\"middle\" x=\"732.5\" y=\"-706.8\" font-family=\"Helvetica,sans-Serif\" font-size=\"14.00\" fill=\"#000000\">class = 1</text>\n</g>\n<!-- 2&#45;&gt;8 -->\n<g id=\"edge34\" class=\"edge\">\n<title>2&#45;&gt;8</title>\n<path fill=\"none\" stroke=\"#000000\" d=\"M653.8199,-817.8796C663.1608,-808.6931 673.139,-798.8798 682.744,-789.4336\"/>\n<polygon fill=\"#000000\" stroke=\"#000000\" points=\"685.3238,-791.8054 689.9994,-782.2981 680.4155,-786.8146 685.3238,-791.8054\"/>\n</g>\n<!-- 9 -->\n<g id=\"node36\" class=\"node\">\n<title>9</title>\n<path fill=\"#399de5\" stroke=\"#000000\" d=\"M759,-655.5C759,-655.5 676,-655.5 676,-655.5 670,-655.5 664,-649.5 664,-643.5 664,-643.5 664,-599.5 664,-599.5 664,-593.5 670,-587.5 676,-587.5 676,-587.5 759,-587.5 759,-587.5 765,-587.5 771,-593.5 771,-599.5 771,-599.5 771,-643.5 771,-643.5 771,-649.5 765,-655.5 759,-655.5\"/>\n<text text-anchor=\"middle\" x=\"717.5\" y=\"-640.3\" font-family=\"Helvetica,sans-Serif\" font-size=\"14.00\" fill=\"#000000\">entropy = 0.0</text>\n<text text-anchor=\"middle\" x=\"717.5\" y=\"-625.3\" font-family=\"Helvetica,sans-Serif\" font-size=\"14.00\" fill=\"#000000\">samples = 39</text>\n<text text-anchor=\"middle\" x=\"717.5\" y=\"-610.3\" font-family=\"Helvetica,sans-Serif\" font-size=\"14.00\" fill=\"#000000\">value = [0, 39]</text>\n<text text-anchor=\"middle\" x=\"717.5\" y=\"-595.3\" font-family=\"Helvetica,sans-Serif\" font-size=\"14.00\" fill=\"#000000\">class = 1</text>\n</g>\n<!-- 8&#45;&gt;9 -->\n<g id=\"edge35\" class=\"edge\">\n<title>8&#45;&gt;9</title>\n<path fill=\"none\" stroke=\"#000000\" d=\"M727.2537,-698.8796C725.9092,-688.2134 724.4582,-676.7021 723.0968,-665.9015\"/>\n<polygon fill=\"#000000\" stroke=\"#000000\" points=\"726.5486,-665.2987 721.8254,-655.8149 719.6036,-666.1742 726.5486,-665.2987\"/>\n</g>\n<!-- 10 -->\n<g id=\"node37\" class=\"node\">\n<title>10</title>\n<path fill=\"#9ccef2\" stroke=\"#000000\" d=\"M887.5,-655.5C887.5,-655.5 801.5,-655.5 801.5,-655.5 795.5,-655.5 789.5,-649.5 789.5,-643.5 789.5,-643.5 789.5,-599.5 789.5,-599.5 789.5,-593.5 795.5,-587.5 801.5,-587.5 801.5,-587.5 887.5,-587.5 887.5,-587.5 893.5,-587.5 899.5,-593.5 899.5,-599.5 899.5,-599.5 899.5,-643.5 899.5,-643.5 899.5,-649.5 893.5,-655.5 887.5,-655.5\"/>\n<text text-anchor=\"middle\" x=\"844.5\" y=\"-640.3\" font-family=\"Helvetica,sans-Serif\" font-size=\"14.00\" fill=\"#000000\">entropy = 0.92</text>\n<text text-anchor=\"middle\" x=\"844.5\" y=\"-625.3\" font-family=\"Helvetica,sans-Serif\" font-size=\"14.00\" fill=\"#000000\">samples = 15</text>\n<text text-anchor=\"middle\" x=\"844.5\" y=\"-610.3\" font-family=\"Helvetica,sans-Serif\" font-size=\"14.00\" fill=\"#000000\">value = [5, 10]</text>\n<text text-anchor=\"middle\" x=\"844.5\" y=\"-595.3\" font-family=\"Helvetica,sans-Serif\" font-size=\"14.00\" fill=\"#000000\">class = 1</text>\n</g>\n<!-- 8&#45;&gt;10 -->\n<g id=\"edge36\" class=\"edge\">\n<title>8&#45;&gt;10</title>\n<path fill=\"none\" stroke=\"#000000\" d=\"M771.6722,-698.8796C782.5389,-687.3337 794.3376,-674.7976 805.2109,-663.2446\"/>\n<polygon fill=\"#000000\" stroke=\"#000000\" points=\"807.8986,-665.4958 812.2036,-655.8149 802.8012,-660.6982 807.8986,-665.4958\"/>\n</g>\n</g>\n</svg>\n"
          },
          "metadata": {},
          "execution_count": 78
        }
      ]
    },
    {
      "cell_type": "code",
      "source": [
        "predict = clf.predict(X_test)"
      ],
      "metadata": {
        "id": "H-XhXR7RxtHA"
      },
      "execution_count": 92,
      "outputs": []
    },
    {
      "cell_type": "code",
      "source": [
        "accuracy_score(Y_test, predict)"
      ],
      "metadata": {
        "colab": {
          "base_uri": "https://localhost:8080/"
        },
        "id": "WndTrvL2yJrc",
        "outputId": "7f6d7f39-2a1b-4f66-f314-60e5bdf3160c"
      },
      "execution_count": 94,
      "outputs": [
        {
          "output_type": "execute_result",
          "data": {
            "text/plain": [
              "0.8076923076923077"
            ]
          },
          "metadata": {},
          "execution_count": 94
        }
      ]
    },
    {
      "cell_type": "code",
      "source": [
        "f1_score(Y_test, predict, average='macro')"
      ],
      "metadata": {
        "colab": {
          "base_uri": "https://localhost:8080/"
        },
        "id": "8KAF_vAfxyQ4",
        "outputId": "c1e295a8-5ab9-4434-fdc9-cd36c9f06fb9"
      },
      "execution_count": 96,
      "outputs": [
        {
          "output_type": "execute_result",
          "data": {
            "text/plain": [
              "0.7875816993464053"
            ]
          },
          "metadata": {},
          "execution_count": 96
        }
      ]
    },
    {
      "cell_type": "code",
      "source": [
        "clf.predict(df.loc[[719, 739, 748, 734], predictors])"
      ],
      "metadata": {
        "colab": {
          "base_uri": "https://localhost:8080/"
        },
        "id": "vttGBvRZyS9w",
        "outputId": "7d45297a-4bc7-4d26-aa4d-cb6ce2e1fb69"
      },
      "execution_count": 88,
      "outputs": [
        {
          "output_type": "execute_result",
          "data": {
            "text/plain": [
              "array([0, 1, 1, 0])"
            ]
          },
          "metadata": {},
          "execution_count": 88
        }
      ]
    }
  ]
}